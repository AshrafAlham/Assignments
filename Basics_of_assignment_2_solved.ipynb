{
 "cells": [
  {
   "cell_type": "markdown",
   "metadata": {
    "id": "9NXyYtIAQuIG"
   },
   "source": [
    "# Python program to interchange first and last elements in a list\n"
   ]
  },
  {
   "cell_type": "markdown",
   "metadata": {
    "id": "Y8j1uUT8Q6Xf"
   },
   "source": [
    "- Examples\n",
    "\n",
    "- Input : [12, 35, 9, 56, 24]\n",
    "- Output : [24, 35, 9, 56, 12]\n",
    "\n",
    "- Input : [1, 2, 3]\n",
    "- Output : [3, 2, 1]"
   ]
  },
  {
   "cell_type": "code",
   "execution_count": 3,
   "metadata": {},
   "outputs": [
    {
     "name": "stdout",
     "output_type": "stream",
     "text": [
      "[3, 2, 1]\n"
     ]
    }
   ],
   "source": [
    "lst = [12, 35, 9, 56, 24]\n",
    "x = lst[0]\n",
    "lst[0] = lst[-1]\n",
    "lst[-1] = x\n",
    "print(lst)"
   ]
  },
  {
   "cell_type": "markdown",
   "metadata": {
    "id": "h-yd-gv7RnYW"
   },
   "source": [
    "### Find the Length of a List in Python\n",
    "\n"
   ]
  },
  {
   "cell_type": "markdown",
   "metadata": {
    "id": "AapkQMkGRqqg"
   },
   "source": [
    "- Input: lst = [10,20,30,40]\n",
    "- Output: 4\n",
    "- Explanation: The output is 4 because thelength of the list is  4."
   ]
  },
  {
   "cell_type": "code",
   "execution_count": 4,
   "metadata": {},
   "outputs": [
    {
     "name": "stdout",
     "output_type": "stream",
     "text": [
      "4\n"
     ]
    }
   ],
   "source": [
    "lst = [10, 20, 30, 40]\n",
    "lst_length = len(lst)\n",
    "print(lst_length)"
   ]
  },
  {
   "cell_type": "markdown",
   "metadata": {
    "id": "Y-XZTe1ES7pJ"
   },
   "source": [
    "### Python | Find elements of a list by indices\n",
    "- Input : lst1 = [10, 20, 30, 40, 50]\n",
    "-        lst2 = [0, 2, 4]\n",
    "- Output : [10, 30, 50]"
   ]
  },
  {
   "cell_type": "code",
   "execution_count": 3,
   "metadata": {},
   "outputs": [
    {
     "name": "stdout",
     "output_type": "stream",
     "text": [
      "[1, 2]\n"
     ]
    }
   ],
   "source": [
    "lst1 = [1, 2, 3]\n",
    "lst2= [ 0, 1]\n",
    "lst3 = []\n",
    "for item in lst2:\n",
    "  lst3.append(lst1[item])\n",
    "print(lst3)\n"
   ]
  },
  {
   "cell_type": "markdown",
   "metadata": {
    "id": "3fmiplSXTmN-"
   },
   "source": [
    "# Python program to find the String in a List\n"
   ]
  },
  {
   "cell_type": "markdown",
   "metadata": {
    "id": "0HdTN1z3TpYH"
   },
   "source": [
    "- Input: l=[1, 1.0, 'have', 'a', 'geeky', 'day']; s='geeky'\n",
    "- Output: True\n",
    "- Explanation: geeky is present in the input list"
   ]
  },
  {
   "cell_type": "markdown",
   "metadata": {
    "id": "PID_7zUJT-HU"
   },
   "source": [
    "\n",
    "\n",
    "```\n",
    "#  hint you can use in\n",
    "```\n",
    "\n",
    "- The in keyword is used to check if a value is present in a sequence (list, range, string etc.).\n",
    "\n"
   ]
  },
  {
   "cell_type": "code",
   "execution_count": 11,
   "metadata": {
    "id": "folb7eDqUXwk"
   },
   "outputs": [
    {
     "name": "stdout",
     "output_type": "stream",
     "text": [
      "True\n"
     ]
    }
   ],
   "source": [
    "fruits = [\"apple\", \"banana\", \"cherry\"]\n",
    "print(\"banana\" in fruits)"
   ]
  },
  {
   "cell_type": "markdown",
   "metadata": {
    "id": "WI5-sy7eU9Gm"
   },
   "source": [
    "## Ways to find indices of value in list\n",
    "\n",
    "\n",
    "- list of animals\n",
    "- Animals= [\"cat\", \"dog\", \"tiger\"]\n",
    "- searching positiion of dog\n",
    "- output is 1"
   ]
  },
  {
   "cell_type": "code",
   "execution_count": 16,
   "metadata": {},
   "outputs": [
    {
     "name": "stdout",
     "output_type": "stream",
     "text": [
      "0\n"
     ]
    }
   ],
   "source": [
    "Animals= [\"cat\", \"dog\", \"tiger\"]\n",
    "print(Animals.index(\"cat\"))"
   ]
  },
  {
   "cell_type": "markdown",
   "metadata": {
    "id": "-WY6GZpgVjs-"
   },
   "source": [
    "### Find most frequent element in a list\n",
    "- Input : [2, 1, 2, 2, 1, 3]\n",
    "- Output : 2\n",
    "\n",
    "- Input : ['Dog', 'Cat', 'Dog']\n",
    "- Output : Dog"
   ]
  },
  {
   "cell_type": "markdown",
   "metadata": {
    "id": "iplk5uDKfiye"
   },
   "source": [
    "- hint you can use max in python"
   ]
  },
  {
   "cell_type": "code",
   "execution_count": 2,
   "metadata": {},
   "outputs": [
    {
     "name": "stdout",
     "output_type": "stream",
     "text": [
      "2\n"
     ]
    }
   ],
   "source": [
    "num = [2, 1, 2, 2, 1, 3]\n",
    "counter = 0\n",
    "for item in num:\n",
    "  item_occur = num.count(item)\n",
    "  if item_occur > counter:\n",
    "    counter = item_occur\n",
    "    element = num[num.index(item)]\n",
    "\n",
    "print(element)"
   ]
  },
  {
   "cell_type": "markdown",
   "metadata": {
    "id": "-vF6f8UQZIgq"
   },
   "source": [
    "## Remove an Item from the List in Python.\n",
    "- Input: ['Rose',' Lily', 'Lotus', 'Sun', 'Sunflower']\n",
    "- Delete: 'Sun'\n",
    "- Output: ['Rose',' Lily', 'Lotus', 'Sunflower']\n",
    "- Explanation: In this, we have removed the 'Sun' element from the given list"
   ]
  },
  {
   "cell_type": "code",
   "execution_count": 9,
   "metadata": {},
   "outputs": [
    {
     "name": "stdout",
     "output_type": "stream",
     "text": [
      "[' Lily', 'Lotus', 'Sun', 'Sunflower']\n"
     ]
    }
   ],
   "source": [
    "lst = ['Rose',' Lily', 'Lotus', 'Sun', 'Sunflower']\n",
    "lst.remove(\"Rose\")\n",
    "print(lst)"
   ]
  },
  {
   "cell_type": "markdown",
   "metadata": {
    "id": "l_YTnBftZe7V"
   },
   "source": [
    "# Remove multiple elements from a list in Python\n",
    "- Input: [12, 15, 3, 10]\n",
    "- Output: Remove = [12, 3], New_List = [15, 10]\n",
    "\n",
    "- Input: [11, 5, 17, 18, 23, 50]\n",
    "- Output: Remove = [1:5], New_list = [11, 50]"
   ]
  },
  {
   "cell_type": "code",
   "execution_count": 7,
   "metadata": {},
   "outputs": [
    {
     "name": "stdout",
     "output_type": "stream",
     "text": [
      "[11, 17, 18, 50]\n"
     ]
    }
   ],
   "source": [
    "number = [11, 5, 17, 18, 23, 50]\n",
    "list_removed = [5, 23]\n",
    "for item in list_removed:\n",
    "  number.remove(item)\n",
    "\n",
    "print(number)\n"
   ]
  },
  {
   "cell_type": "code",
   "execution_count": 8,
   "metadata": {},
   "outputs": [
    {
     "name": "stdout",
     "output_type": "stream",
     "text": [
      "[11, 50]\n"
     ]
    }
   ],
   "source": [
    "list1 = [11, 5, 17, 18, 23, 50] \n",
    " \n",
    "del list1[1:5]\n",
    " \n",
    "print(list1)\n"
   ]
  },
  {
   "cell_type": "code",
   "execution_count": null,
   "metadata": {},
   "outputs": [],
   "source": []
  },
  {
   "cell_type": "markdown",
   "metadata": {
    "id": "yYoINEUvcG4-"
   },
   "source": [
    "# python program to check whether the string is Palindrome  and get the str from user"
   ]
  },
  {
   "cell_type": "markdown",
   "metadata": {
    "id": "ARhC7ZL6cvjO"
   },
   "source": [
    "- Input : malayalam\n",
    "- Output : True\n",
    "\n",
    "- Input : geeks\n",
    "- Output : False"
   ]
  },
  {
   "cell_type": "code",
   "execution_count": 5,
   "metadata": {},
   "outputs": [
    {
     "name": "stdout",
     "output_type": "stream",
     "text": [
      "enter a word for test: malaya\n",
      "False\n"
     ]
    }
   ],
   "source": [
    "word = input(\"enter a word for test: \")\n",
    "word_as_list = list(word)\n",
    "reverse_list = []\n",
    "for i in range(1, len(word_as_list)+1):\n",
    "  i *= -1\n",
    "  reverse_list.append(word_as_list[i])\n",
    "reverse_word = \"\".join(reverse_list)\n",
    "if word == reverse_word:\n",
    "  print(True)\n",
    "else:\n",
    "  print(False)\n"
   ]
  },
  {
   "cell_type": "markdown",
   "metadata": {
    "id": "_EYlmszadOww"
   },
   "source": [
    "### Reverse Words in a Given String in Python\n",
    "- Input : str =\" geeks quiz practice code\"\n",
    "- Output : str = code practice quiz geeks  \n",
    "- Input : str = \"my name is laxmi\"\n",
    "- output : str= laxmi is name my"
   ]
  },
  {
   "cell_type": "code",
   "execution_count": 4,
   "metadata": {},
   "outputs": [
    {
     "name": "stdout",
     "output_type": "stream",
     "text": [
      "laxmi is name my\n"
     ]
    }
   ],
   "source": [
    "str = \"my name is laxmi\"\n",
    "as_list = str.split()\n",
    "reverse_list = []\n",
    "for i in range(1, len(as_list)+1):\n",
    "  i *= -1\n",
    "  reverse_list.append(as_list[i])\n",
    "print(\" \".join(reverse_list))\n"
   ]
  },
  {
   "cell_type": "markdown",
   "metadata": {
    "id": "242TCJPleCof"
   },
   "source": [
    "### Find length of a string in python\n",
    "- Input : 'abc'\n",
    "- Output : 3\n",
    "\n",
    "- Input : 'hello world !'\n",
    "- Output : 13\n",
    "\n",
    "- Input : ' h e l   l  o '\n",
    "- Output :14"
   ]
  },
  {
   "cell_type": "code",
   "execution_count": 9,
   "metadata": {},
   "outputs": [
    {
     "name": "stdout",
     "output_type": "stream",
     "text": [
      "17\n"
     ]
    }
   ],
   "source": [
    "str =  \"my name is ashraf\"\n",
    "print(len(str))"
   ]
  },
  {
   "cell_type": "markdown",
   "metadata": {
    "id": "rE_STqG_fFJs"
   },
   "source": [
    "###  Avoid Spaces in string length\n",
    "\n",
    "\n",
    "```\n",
    "- string = \"Hello, world!  \"\n",
    "- with space 15\n",
    "- without space is 12\n",
    "```\n",
    "\n",
    "\n"
   ]
  },
  {
   "cell_type": "markdown",
   "metadata": {
    "id": "zRnIlNqSf3ni"
   },
   "source": [
    "-  hint you can use len in python to get len of str or list"
   ]
  },
  {
   "cell_type": "code",
   "execution_count": 18,
   "metadata": {},
   "outputs": [
    {
     "name": "stdout",
     "output_type": "stream",
     "text": [
      "length of string with spaces: 24\n",
      "length of string without spaces: 21\n"
     ]
    }
   ],
   "source": [
    "#string = \"Hello, world!  \"\n",
    "string = 'geeksforgeeks 33 is best'\n",
    "print(f\"length of string with spaces: {len(string)}\")\n",
    "string = string.replace(' ', \"\")\n",
    "print(f\"length of string without spaces: {len(string)}\")"
   ]
  },
  {
   "cell_type": "code",
   "execution_count": null,
   "metadata": {},
   "outputs": [],
   "source": []
  },
  {
   "cell_type": "code",
   "execution_count": null,
   "metadata": {},
   "outputs": [],
   "source": []
  },
  {
   "cell_type": "code",
   "execution_count": null,
   "metadata": {},
   "outputs": [],
   "source": []
  },
  {
   "cell_type": "code",
   "execution_count": null,
   "metadata": {},
   "outputs": [],
   "source": []
  },
  {
   "cell_type": "markdown",
   "metadata": {
    "id": "FebQFluegBW2"
   },
   "source": [
    "# Smallest Length String in the list\n",
    "- test_list = ['gfg', 'is', 'best', 'for', 'geeks']\n",
    "- Minimum length string is : is\n"
   ]
  },
  {
   "cell_type": "markdown",
   "metadata": {
    "id": "Nn_2JLRJgZ3h"
   },
   "source": [
    "-  hint you can use min in python"
   ]
  },
  {
   "cell_type": "code",
   "execution_count": 25,
   "metadata": {},
   "outputs": [
    {
     "name": "stdout",
     "output_type": "stream",
     "text": [
      "Minimum length string is : a\n"
     ]
    }
   ],
   "source": [
    "test_list = ['gfg', 'is', 'best', 'for', 'geeks']\n",
    "l = len(test_list[0])\n",
    "for item in test_list:\n",
    "    if len(item) < l:\n",
    "        ind  = test_list.index(item)\n",
    "    \n",
    "print(f\"Minimum length string is : {test_list[ind]}\")"
   ]
  },
  {
   "cell_type": "code",
   "execution_count": null,
   "metadata": {},
   "outputs": [],
   "source": []
  },
  {
   "cell_type": "code",
   "execution_count": null,
   "metadata": {},
   "outputs": [],
   "source": []
  },
  {
   "cell_type": "code",
   "execution_count": null,
   "metadata": {},
   "outputs": [],
   "source": []
  },
  {
   "cell_type": "code",
   "execution_count": null,
   "metadata": {},
   "outputs": [],
   "source": []
  },
  {
   "cell_type": "code",
   "execution_count": null,
   "metadata": {},
   "outputs": [],
   "source": []
  },
  {
   "cell_type": "code",
   "execution_count": null,
   "metadata": {},
   "outputs": [],
   "source": []
  },
  {
   "cell_type": "code",
   "execution_count": null,
   "metadata": {},
   "outputs": [],
   "source": []
  },
  {
   "cell_type": "code",
   "execution_count": null,
   "metadata": {},
   "outputs": [],
   "source": []
  },
  {
   "cell_type": "code",
   "execution_count": null,
   "metadata": {},
   "outputs": [],
   "source": []
  },
  {
   "cell_type": "code",
   "execution_count": null,
   "metadata": {},
   "outputs": [],
   "source": []
  },
  {
   "cell_type": "code",
   "execution_count": null,
   "metadata": {},
   "outputs": [],
   "source": []
  },
  {
   "cell_type": "code",
   "execution_count": null,
   "metadata": {},
   "outputs": [],
   "source": []
  }
 ],
 "metadata": {
  "colab": {
   "private_outputs": true,
   "provenance": []
  },
  "kernelspec": {
   "display_name": "Python 3 (ipykernel)",
   "language": "python",
   "name": "python3"
  },
  "language_info": {
   "codemirror_mode": {
    "name": "ipython",
    "version": 3
   },
   "file_extension": ".py",
   "mimetype": "text/x-python",
   "name": "python",
   "nbconvert_exporter": "python",
   "pygments_lexer": "ipython3",
   "version": "3.11.7"
  }
 },
 "nbformat": 4,
 "nbformat_minor": 1
}
