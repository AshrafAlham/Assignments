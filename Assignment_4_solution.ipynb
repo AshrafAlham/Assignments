{
  "nbformat": 4,
  "nbformat_minor": 0,
  "metadata": {
    "colab": {
      "provenance": []
    },
    "kernelspec": {
      "name": "python3",
      "display_name": "Python 3"
    },
    "language_info": {
      "name": "python"
    }
  },
  "cells": [
    {
      "cell_type": "markdown",
      "source": [
        "Task 1 :Write a Python program to create a calculator class. Include methods for basic arithmetic operations"
      ],
      "metadata": {
        "id": "LxoF52cSOKLr"
      }
    },
    {
      "cell_type": "code",
      "source": [
        "class Calculator:\n",
        "  def __init__(self, num1, num2):\n",
        "    self.num1 = num1\n",
        "    self.num2 = num2\n",
        "\n",
        "  def add(self):\n",
        "    return self.num1 + self.num2\n",
        "\n",
        "  def subtraction(self):\n",
        "    return self.num1 - self.num2\n",
        "\n",
        "  def multiply(self):\n",
        "    return self.num1 * self.num2\n",
        "\n",
        "  def division(self):\n",
        "    if self.num2 != 0:\n",
        "      return self.num1 + self.num2\n",
        "    else:\n",
        "      return \"You entered invalid syntax!!\"\n",
        "\n",
        "calc = Calculator(20, 15)\n",
        "print(calc.add())\n",
        "print(calc.subtraction())\n",
        "print(calc.multiply())\n",
        "print(calc.division())"
      ],
      "metadata": {
        "colab": {
          "base_uri": "https://localhost:8080/"
        },
        "id": "sb0EPV2ZOLBZ",
        "outputId": "af35cbb3-6d95-42c8-9d74-6a4301db3d34"
      },
      "execution_count": 4,
      "outputs": [
        {
          "output_type": "stream",
          "name": "stdout",
          "text": [
            "35\n",
            "5\n",
            "300\n",
            "35\n"
          ]
        }
      ]
    },
    {
      "cell_type": "markdown",
      "source": [
        "Task 2: Rectangle class:\n",
        "1. Write a Rectangle class in Python language, allowing you to build a rectangle with length and width attributes.\n",
        "2. Create a Perimeter() method to calculate the perimeter of the rectangle and a Area() method to calculate the area of the rectangle.\n",
        "3. Create a method display() that display the length, width, perimeter and area of an object created using an instantiation on rectangle class.\n",
        "4. Create a Parallelepipede child class inheriting from the Rectangle class and with a height attribute and another Volume() method to calculate the volume of the Parallelepiped."
      ],
      "metadata": {
        "id": "0K3M4_kFONxf"
      }
    },
    {
      "cell_type": "code",
      "source": [
        "class Rectangle:\n",
        "  def __init__(self, length, width):\n",
        "    self.length = length\n",
        "    self.width = width\n",
        "\n",
        "  def Perimeter(self):\n",
        "    return 2 * (self.length + self.width)\n",
        "\n",
        "  def Area(self):\n",
        "    return self.length * self.width\n",
        "\n",
        "  def display(self):\n",
        "    return f\"Rectangle length : {self.length}\\nRectangle width : {self.width}\\nRectangle perimeter : {self.Perimeter()}\\nRectangle Area : {self.Area()}\\n\"\n",
        "\n",
        "class Parallelepipede(Rectangle):\n",
        "  def __init__(self, length, width, height):\n",
        "    super().__init__(length, width)\n",
        "    self.height = height\n",
        "\n",
        "  def Volume(self):\n",
        "    return self.length * self.width * self.height\n",
        "\n",
        "rect = Rectangle(20, 10)\n",
        "print(rect.display())\n",
        "print(\"--------------------\")\n",
        "parall = Parallelepipede(10, 5, 5)\n",
        "print(f\"Parallelepipede volume : {parall.Volume()}\")\n"
      ],
      "metadata": {
        "colab": {
          "base_uri": "https://localhost:8080/"
        },
        "id": "XNrrnv-jOON7",
        "outputId": "2e9ac939-41cd-47ed-f5d2-6b9ffee44ebb"
      },
      "execution_count": 6,
      "outputs": [
        {
          "output_type": "stream",
          "name": "stdout",
          "text": [
            "Rectangle length : 20\n",
            "Rectangle width : 10\n",
            "Rectangle perimeter : 60\n",
            "Rectangle Area : 200\n",
            "\n",
            "--------------------\n",
            "Parallelepipede volume : 250\n"
          ]
        }
      ]
    },
    {
      "cell_type": "markdown",
      "source": [
        "Task 3: Person class and child Student class\n",
        "Create a Python class Person with attributes: name and age of type string.\n",
        "1. Create a display() method that displays the name and age of an object created via the Person class.\n",
        "2. Create a child class Student which inherits from the Person class and which also has a section attribute.\n",
        "3. Create a method displayStudent() that displays the name, age and section of an object created via the Student class.\n",
        "4. Create a student object via an instantiation on the Student class and then test the displayStudent method."
      ],
      "metadata": {
        "id": "Bq1LehvGOU2q"
      }
    },
    {
      "cell_type": "code",
      "source": [
        "class Person:\n",
        "  def __init__(self, name, age):\n",
        "    self.name = name\n",
        "    self.age = age\n",
        "\n",
        "  def display(self):\n",
        "    return f\"person name: {self.name}\\nperson age: {self.age}\"\n",
        "\n",
        "class Student(Person):\n",
        "  def __init__(self, name, age, section):\n",
        "    super().__init__(name, age)\n",
        "    self.section = section\n",
        "\n",
        "  def displayStudent(self):\n",
        "    return f\"student name: {self.name}\\nstudent age: {self.age}\\nstudent section: {self.section}\"\n",
        "\n",
        "person = Person(\"ashraf\", 27)\n",
        "print(person.display())\n",
        "print(\"-------------------------\")\n",
        "student = Student(\"celia\", 3, \"first\")\n",
        "print(student.displayStudent())\n"
      ],
      "metadata": {
        "colab": {
          "base_uri": "https://localhost:8080/"
        },
        "id": "_tQ6KTXxOVIp",
        "outputId": "a8ced19f-baa2-4b59-dba1-58ad2f9103ec"
      },
      "execution_count": 1,
      "outputs": [
        {
          "output_type": "stream",
          "name": "stdout",
          "text": [
            "person name: ashraf\n",
            "person age: 27\n",
            "-------------------------\n",
            "student name: celia\n",
            "student age: 3\n",
            "student section: first\n"
          ]
        }
      ]
    },
    {
      "cell_type": "code",
      "source": [],
      "metadata": {
        "id": "xnu2h6qSOZ3G"
      },
      "execution_count": null,
      "outputs": []
    }
  ]
}