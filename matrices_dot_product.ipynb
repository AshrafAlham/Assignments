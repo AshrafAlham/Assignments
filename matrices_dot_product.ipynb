{
  "nbformat": 4,
  "nbformat_minor": 0,
  "metadata": {
    "colab": {
      "provenance": []
    },
    "kernelspec": {
      "name": "python3",
      "display_name": "Python 3"
    },
    "language_info": {
      "name": "python"
    }
  },
  "cells": [
    {
      "cell_type": "code",
      "execution_count": 1,
      "metadata": {
        "colab": {
          "base_uri": "https://localhost:8080/"
        },
        "id": "VDyVsSVfxQUX",
        "outputId": "cdeb0136-3d57-4deb-9c0c-f567cf7cf6ad"
      },
      "outputs": [
        {
          "output_type": "stream",
          "name": "stdout",
          "text": [
            "[[26, 18, 24], [32, 30, 42]]\n"
          ]
        }
      ],
      "source": [
        "m1 = [[1, 2, 3],\n",
        "      [7, 2, 3],]\n",
        "m2 = [[1, 2, 3],\n",
        "      [2, 5, 6],\n",
        "      [7, 2, 3]]\n",
        "def v_dot(v1, v2):\n",
        "  return sum(x*y for x, y in zip(v1, v2))\n",
        "\n",
        "def m_dot(m1, m2):\n",
        "  return [[v_dot(r,c) for c in zip(*m2)] for r in m1]\n",
        "\n",
        "print(m_dot(m1, m2))"
      ]
    },
    {
      "cell_type": "code",
      "source": [],
      "metadata": {
        "id": "Cv-iBnboxZDC"
      },
      "execution_count": null,
      "outputs": []
    }
  ]
}