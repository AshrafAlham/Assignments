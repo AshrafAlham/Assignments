{
  "nbformat": 4,
  "nbformat_minor": 0,
  "metadata": {
    "colab": {
      "private_outputs": true,
      "provenance": []
    },
    "kernelspec": {
      "name": "python3",
      "display_name": "Python 3"
    },
    "language_info": {
      "name": "python"
    }
  },
  "cells": [
    {
      "cell_type": "markdown",
      "source": [
        "### 1) Write a program to print the maximum between two numbers. (one-line conditional statement)\n"
      ],
      "metadata": {
        "id": "Ui8LKXjlii3V"
      }
    },
    {
      "cell_type": "code",
      "source": [
        "max_numbers = lambda x,y: print(max(x, y))\n",
        "max_numbers(2, 5)"
      ],
      "metadata": {
        "id": "D7jGF_eyEX3I"
      },
      "execution_count": null,
      "outputs": []
    },
    {
      "cell_type": "markdown",
      "source": [
        "### 2) Write a program to find the maximum between three numbers.\n"
      ],
      "metadata": {
        "id": "xQB_yP4rirZS"
      }
    },
    {
      "cell_type": "code",
      "source": [
        "numbers = [34, 56, 89]\n",
        "print(max(numbers))"
      ],
      "metadata": {
        "id": "kj8jFxqGFfEs"
      },
      "execution_count": null,
      "outputs": []
    },
    {
      "cell_type": "markdown",
      "source": [
        "### 3) Write a program to check whether a number is negative, or positive (one-line conditional statement)\n"
      ],
      "metadata": {
        "id": "di3xEq8mjBRK"
      }
    },
    {
      "cell_type": "code",
      "source": [
        "number_type = lambda n: print(\"Positive\") if n > 0 else print(\"negative\")\n",
        "number_type(-2)"
      ],
      "metadata": {
        "id": "O0kjUHfIWClg"
      },
      "execution_count": null,
      "outputs": []
    },
    {
      "cell_type": "markdown",
      "source": [
        "### 4) Write a  program to check whether a number is even or odd  (one-line statement).\n"
      ],
      "metadata": {
        "id": "grc5Gk_RjFBe"
      }
    },
    {
      "cell_type": "code",
      "source": [
        "n = 56\n",
        "print(\"even\") if n % 2 == 0 else print(\"odd\")"
      ],
      "metadata": {
        "id": "H6wFpygXWs6S"
      },
      "execution_count": null,
      "outputs": []
    },
    {
      "cell_type": "markdown",
      "source": [
        "###5) Write a  program to check whether a year is a leap year or not. (one-line conditional statement).\n"
      ],
      "metadata": {
        "id": "-J3UtjpIjJPv"
      }
    },
    {
      "cell_type": "code",
      "source": [
        "leap_year = lambda n: print(\"it's a leap year\") if n % 4 == 0 else print(\"it's not a leap year\") if n % 100 == 0 else print(\"it's a leap year\") if n % 4 == 0 else print(\"it's not a leap year\")\n",
        "leap_year(2000)"
      ],
      "metadata": {
        "id": "q5otfQ8KoVjt"
      },
      "execution_count": null,
      "outputs": []
    },
    {
      "cell_type": "code",
      "source": [],
      "metadata": {
        "id": "qQ4QFHjep_VS"
      },
      "execution_count": null,
      "outputs": []
    },
    {
      "cell_type": "markdown",
      "source": [
        "###6) Write a  program to store the weekdays in a list and access the week day and print it by index.\n"
      ],
      "metadata": {
        "id": "JeN4yaIMjNlC"
      }
    },
    {
      "cell_type": "code",
      "source": [
        "weekdays = [\"saturday\", \"sunday\", \"monday\", \"tuesday\", \"wdensday\", \"thursday\", \"friday\"]\n",
        "for day in weekdays:\n",
        "  print(day)"
      ],
      "metadata": {
        "id": "sJWdP8poK8LV"
      },
      "execution_count": null,
      "outputs": []
    },
    {
      "cell_type": "markdown",
      "source": [
        "###7) Write a  program to print all alphabets from a to z using while loop"
      ],
      "metadata": {
        "id": "ST7uKJmtjYh1"
      }
    },
    {
      "cell_type": "code",
      "source": [
        "alphabets = [\"a\", \"b\", \"c\", \"d\", \"e\", \"f\", \"g\", \"h\", \"i\", \"j\", \"k\", \"l\", \"m\", \"n\", \"o\", \"p\", \"q\", \"r\", \"s\", \"t\", \"u\", \"v\", \"w\", \"x\", \"y\", \"z\"]\n",
        "count = 0\n",
        "while count < len(alphabets):\n",
        "  print(alphabets[count])\n",
        "  count += 1"
      ],
      "metadata": {
        "id": "fdwy9YKdLf2S"
      },
      "execution_count": null,
      "outputs": []
    },
    {
      "cell_type": "markdown",
      "source": [
        "###8)Write a program to store numbers in the List and print its reverse"
      ],
      "metadata": {
        "id": "PkPPTrivjran"
      }
    },
    {
      "cell_type": "code",
      "source": [
        "original_list = [1, 3, 4, 2, 6, 78, 45]\n",
        "reversed_list = original_list[::-1]\n",
        "print(reversed_list)"
      ],
      "metadata": {
        "id": "-KqUYLmQMsyl"
      },
      "execution_count": null,
      "outputs": []
    },
    {
      "cell_type": "markdown",
      "source": [
        "### 9) Write a program to print the multiplcation table of any number"
      ],
      "metadata": {
        "id": "2JoHNIaCj7fR"
      }
    },
    {
      "cell_type": "code",
      "source": [
        "def multiplcation_table(n):\n",
        "  for i in range(1,13):\n",
        "    print(i * n)\n",
        "multiplcation_table(3)"
      ],
      "metadata": {
        "id": "JJx66y7cNVOx"
      },
      "execution_count": null,
      "outputs": []
    },
    {
      "cell_type": "code",
      "source": [],
      "metadata": {
        "id": "YvxD7owANtZy"
      },
      "execution_count": null,
      "outputs": []
    },
    {
      "cell_type": "markdown",
      "source": [
        "###10)Write a program to print all even numbers between 1 to 100.(using while loop)"
      ],
      "metadata": {
        "id": "WTIX9yh1kLs-"
      }
    },
    {
      "cell_type": "code",
      "execution_count": null,
      "metadata": {
        "id": "i5fTGY3Qib9Y"
      },
      "outputs": [],
      "source": [
        "x = 1\n",
        "while x < 101:\n",
        "  if x % 2 == 0:\n",
        "    print(x)\n",
        "  x +=1"
      ]
    },
    {
      "cell_type": "code",
      "source": [],
      "metadata": {
        "id": "dTkwZaOfNOO1"
      },
      "execution_count": null,
      "outputs": []
    },
    {
      "cell_type": "code",
      "source": [],
      "metadata": {
        "id": "QL6U3dmGNLeG"
      },
      "execution_count": null,
      "outputs": []
    }
  ]
}