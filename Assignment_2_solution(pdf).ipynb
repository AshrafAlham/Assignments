{
  "nbformat": 4,
  "nbformat_minor": 0,
  "metadata": {
    "colab": {
      "provenance": []
    },
    "kernelspec": {
      "name": "python3",
      "display_name": "Python 3"
    },
    "language_info": {
      "name": "python"
    }
  },
  "cells": [
    {
      "cell_type": "markdown",
      "source": [
        "# 1. Write a Python program to add an item to a tuple"
      ],
      "metadata": {
        "id": "mFTRDVojTWQk"
      }
    },
    {
      "cell_type": "code",
      "source": [
        "t = (2, 4, 6, 8, 1, 3, 5, 7)\n",
        "t_list = list(t)\n",
        "t_list.append(9)\n",
        "new_t = tuple(t_list)\n",
        "print(new_t)"
      ],
      "metadata": {
        "colab": {
          "base_uri": "https://localhost:8080/"
        },
        "id": "4TdEy6MQTalc",
        "outputId": "3d297fb2-5ceb-400a-dc1e-474b2a7c8b1e"
      },
      "execution_count": 5,
      "outputs": [
        {
          "output_type": "stream",
          "name": "stdout",
          "text": [
            "(2, 4, 6, 8, 1, 3, 5, 7, 9)\n"
          ]
        }
      ]
    },
    {
      "cell_type": "markdown",
      "source": [
        "2. Write a Python program to sum all the items in a list"
      ],
      "metadata": {
        "id": "CnvQUjqeUAxR"
      }
    },
    {
      "cell_type": "code",
      "source": [
        "lst1 = [5, 9, 8, 65, 32, 41, 25]\n",
        "print(sum(lst1))"
      ],
      "metadata": {
        "colab": {
          "base_uri": "https://localhost:8080/"
        },
        "id": "zwF876GxUFG5",
        "outputId": "5e3d38c4-a421-42ad-db03-5492a78d0942"
      },
      "execution_count": 6,
      "outputs": [
        {
          "output_type": "stream",
          "name": "stdout",
          "text": [
            "185\n"
          ]
        }
      ]
    },
    {
      "cell_type": "markdown",
      "source": [
        "3. Write a Python program to multiply all the items in a list"
      ],
      "metadata": {
        "id": "vbw--Q9ZUR3F"
      }
    },
    {
      "cell_type": "code",
      "source": [
        "lst2 = [3, 5, 6, 2]\n",
        "result = 1\n",
        "for i in lst2:\n",
        "  result *= i\n",
        "print(result)"
      ],
      "metadata": {
        "colab": {
          "base_uri": "https://localhost:8080/"
        },
        "id": "mnzUllkgUVox",
        "outputId": "6b504fe3-ea39-42e5-e953-3f50a817f0a2"
      },
      "execution_count": 9,
      "outputs": [
        {
          "output_type": "stream",
          "name": "stdout",
          "text": [
            "180\n"
          ]
        }
      ]
    },
    {
      "cell_type": "markdown",
      "source": [
        "4. Write a Python program to get the smallest number from a list"
      ],
      "metadata": {
        "id": "6GbUhrDdViYZ"
      }
    },
    {
      "cell_type": "code",
      "source": [
        "lst3 = [3, 5, 6, 2]\n",
        "print(min(lst3))"
      ],
      "metadata": {
        "colab": {
          "base_uri": "https://localhost:8080/"
        },
        "id": "1ABaeKTGVoej",
        "outputId": "fd237f3b-0444-4312-fde2-ccb50e4ae02f"
      },
      "execution_count": 10,
      "outputs": [
        {
          "output_type": "stream",
          "name": "stdout",
          "text": [
            "2\n"
          ]
        }
      ]
    },
    {
      "cell_type": "markdown",
      "source": [
        "5. Write a Python program to get the largest number from a list"
      ],
      "metadata": {
        "id": "9arWKNgpVw6M"
      }
    },
    {
      "cell_type": "code",
      "source": [
        "lst4 = [3, 5, 6, 2]\n",
        "print(max(lst4))"
      ],
      "metadata": {
        "colab": {
          "base_uri": "https://localhost:8080/"
        },
        "id": "K7o-jR8zVyi9",
        "outputId": "103bab1b-e1bf-4f98-c783-5c2b2bfb85ce"
      },
      "execution_count": 11,
      "outputs": [
        {
          "output_type": "stream",
          "name": "stdout",
          "text": [
            "6\n"
          ]
        }
      ]
    },
    {
      "cell_type": "markdown",
      "source": [
        "6. Write a Python program to count the number of strings from a given list of strings"
      ],
      "metadata": {
        "id": "zq75RipwV-wA"
      }
    },
    {
      "cell_type": "code",
      "source": [
        "lst5 = [\"geek\", \"dog\", \"cat\", \"cat\"]\n",
        "print(lst5.count(\"cat\"))"
      ],
      "metadata": {
        "colab": {
          "base_uri": "https://localhost:8080/"
        },
        "id": "hkaEpFjHV_5P",
        "outputId": "58fcb338-451b-4c32-81f1-2b03fd6cf19b"
      },
      "execution_count": 12,
      "outputs": [
        {
          "output_type": "stream",
          "name": "stdout",
          "text": [
            "2\n"
          ]
        }
      ]
    },
    {
      "cell_type": "markdown",
      "source": [
        "7. Write a Python program to clone or copy a list"
      ],
      "metadata": {
        "id": "vcLJhGUnWfca"
      }
    },
    {
      "cell_type": "code",
      "source": [
        "lst6 = [\"geek\", \"dog\", \"cat\", \"cat\"]\n",
        "list_copy = []\n",
        "for i in lst6:\n",
        "  list_copy.append(i)\n",
        "print(list_copy)\n"
      ],
      "metadata": {
        "colab": {
          "base_uri": "https://localhost:8080/"
        },
        "id": "3jEgBFTvWgK0",
        "outputId": "c87a850d-320c-46f8-e3a9-e8d41c3b2575"
      },
      "execution_count": 14,
      "outputs": [
        {
          "output_type": "stream",
          "name": "stdout",
          "text": [
            "['geek', 'dog', 'cat', 'cat']\n"
          ]
        }
      ]
    },
    {
      "cell_type": "markdown",
      "source": [
        "8. Write a Python program to remove item(s) from a given set."
      ],
      "metadata": {
        "id": "2JsVJBASXc3q"
      }
    },
    {
      "cell_type": "code",
      "source": [
        "set1 = {1, 3, 5, 4, 6, 2}\n",
        "set1.remove(1)\n",
        "print(set1)"
      ],
      "metadata": {
        "colab": {
          "base_uri": "https://localhost:8080/"
        },
        "id": "giHmjvZsXfkS",
        "outputId": "e57b4a2d-eeb4-4b1b-99b9-a5ccfd1bd935"
      },
      "execution_count": 15,
      "outputs": [
        {
          "output_type": "stream",
          "name": "stdout",
          "text": [
            "{2, 3, 4, 5, 6}\n"
          ]
        }
      ]
    },
    {
      "cell_type": "markdown",
      "source": [
        "9. Write a Python program to check if a set is a subset of another set"
      ],
      "metadata": {
        "id": "Obt3dyp1XuWO"
      }
    },
    {
      "cell_type": "code",
      "source": [
        "set1 = {35, 42, 56, 41, 24}\n",
        "set2 = {42, 56}\n",
        "print(set2.issubset(set1))"
      ],
      "metadata": {
        "colab": {
          "base_uri": "https://localhost:8080/"
        },
        "id": "f_IJ01PkXxI4",
        "outputId": "22d93b7c-fb6f-411c-e7de-7d36d21721aa"
      },
      "execution_count": 2,
      "outputs": [
        {
          "output_type": "stream",
          "name": "stdout",
          "text": [
            "True\n"
          ]
        }
      ]
    },
    {
      "cell_type": "markdown",
      "source": [
        "10. Write a Python program to remove all elements from a given set"
      ],
      "metadata": {
        "id": "IQUdzz8cdlwj"
      }
    },
    {
      "cell_type": "code",
      "source": [
        "set3 = {9, 6, 8, 5, 7, 4}\n",
        "set3.clear()\n",
        "print(set3)"
      ],
      "metadata": {
        "colab": {
          "base_uri": "https://localhost:8080/"
        },
        "id": "GWdaaTkcdo21",
        "outputId": "7cccc447-13fd-4639-a52a-f2836eec516d"
      },
      "execution_count": 3,
      "outputs": [
        {
          "output_type": "stream",
          "name": "stdout",
          "text": [
            "set()\n"
          ]
        }
      ]
    },
    {
      "cell_type": "markdown",
      "source": [
        "11. Write a Python program to find the maximum and minimum values in a set"
      ],
      "metadata": {
        "id": "SoGF-zkoeO8f"
      }
    },
    {
      "cell_type": "code",
      "source": [
        "set4 = {8, 9, 5, 6, 2, 3}\n",
        "print(f\"max number is : {max(set4)}\")\n",
        "print(f\"min number is : {min(set4)}\")"
      ],
      "metadata": {
        "colab": {
          "base_uri": "https://localhost:8080/"
        },
        "id": "xHxlGR_7eSxw",
        "outputId": "665eacaa-7d8d-4f88-d457-7722af0b6a74"
      },
      "execution_count": 5,
      "outputs": [
        {
          "output_type": "stream",
          "name": "stdout",
          "text": [
            "max number is : 9\n",
            "min number is : 2\n"
          ]
        }
      ]
    },
    {
      "cell_type": "markdown",
      "source": [
        "12. Write a Python program to find the index of an item in a tuple"
      ],
      "metadata": {
        "id": "DDA_N4rLetGY"
      }
    },
    {
      "cell_type": "code",
      "source": [
        "t = (8, 9, 5, 6, 2, 3)\n",
        "print(t.index(9))"
      ],
      "metadata": {
        "colab": {
          "base_uri": "https://localhost:8080/"
        },
        "id": "Wl7EXYp8ex-c",
        "outputId": "194e9749-0725-494e-eba0-4782027892fa"
      },
      "execution_count": 18,
      "outputs": [
        {
          "output_type": "stream",
          "name": "stdout",
          "text": [
            "1\n"
          ]
        }
      ]
    },
    {
      "cell_type": "markdown",
      "source": [
        "13. Write a Python program to convert a tuple to a dictionary"
      ],
      "metadata": {
        "id": "e5mBDuQGfDwS"
      }
    },
    {
      "cell_type": "code",
      "source": [
        "tuple1 = (\"name\",\"ashraf\", \"age\",27, \"job\",\"engineer\")\n",
        "my_dict = {}\n",
        "for k,v in enumerate(tuple1):\n",
        "  my_dict.update({k:v})\n",
        "print(my_dict)"
      ],
      "metadata": {
        "colab": {
          "base_uri": "https://localhost:8080/"
        },
        "id": "yYE0h1kmfGJy",
        "outputId": "e0a86637-3ad2-4f7c-d637-5340aef29978"
      },
      "execution_count": 17,
      "outputs": [
        {
          "output_type": "stream",
          "name": "stdout",
          "text": [
            "{0: 'name', 1: 'ashraf', 2: 'age', 3: 27, 4: 'job', 5: 'engineer'}\n"
          ]
        }
      ]
    },
    {
      "cell_type": "markdown",
      "source": [
        "14. Write a Python program to unzip a list of tuples into individual lists"
      ],
      "metadata": {
        "id": "qwPoy-WekPJr"
      }
    },
    {
      "cell_type": "code",
      "source": [
        "tuple_list = [(15, 12), (96, 58), (20, 50)]\n",
        "res = list(zip(*tuple_list))\n",
        "print(res)"
      ],
      "metadata": {
        "colab": {
          "base_uri": "https://localhost:8080/"
        },
        "id": "FElDegfeYmWE",
        "outputId": "6cc9bdf2-5a0f-4ff3-d4e6-75b8e27f3ed3"
      },
      "execution_count": 16,
      "outputs": [
        {
          "output_type": "stream",
          "name": "stdout",
          "text": [
            "[(15, 96, 20), (12, 58, 50)]\n"
          ]
        }
      ]
    },
    {
      "cell_type": "markdown",
      "source": [
        "15. Write a Python program to reverse a tuple"
      ],
      "metadata": {
        "id": "zf0NTN69mHOL"
      }
    },
    {
      "cell_type": "code",
      "source": [
        "tuple3 = (1, 2, 3, 4, 5)\n",
        "reverse_tuple = tuple3[::-1]\n",
        "print(reverse_tuple)"
      ],
      "metadata": {
        "colab": {
          "base_uri": "https://localhost:8080/"
        },
        "id": "Fs8DaY3-m0VH",
        "outputId": "25e5413f-2537-45d8-d038-89d79011c65d"
      },
      "execution_count": 14,
      "outputs": [
        {
          "output_type": "stream",
          "name": "stdout",
          "text": [
            "(5, 4, 3, 2, 1)\n"
          ]
        }
      ]
    },
    {
      "cell_type": "markdown",
      "source": [
        "16. Write a Python program to convert a list of tuples into a dictionary"
      ],
      "metadata": {
        "id": "tbkNC2GtmJaf"
      }
    },
    {
      "cell_type": "code",
      "source": [
        "tuple_list = [(\"door\", 3), (\"window\", 5), (\"electronics\", 5)]\n",
        "print(dict(tuple_list))"
      ],
      "metadata": {
        "colab": {
          "base_uri": "https://localhost:8080/"
        },
        "id": "zGEuAfMUmbr4",
        "outputId": "fce197e2-c3eb-4633-e57f-ecb415c2212e"
      },
      "execution_count": 11,
      "outputs": [
        {
          "output_type": "stream",
          "name": "stdout",
          "text": [
            "{'door': 3, 'window': 5, 'electronics': 5}\n"
          ]
        }
      ]
    },
    {
      "cell_type": "markdown",
      "source": [
        "17. Write a Python program to replace the last value of tuples in a list"
      ],
      "metadata": {
        "id": "7njfKLoAmL11"
      }
    },
    {
      "cell_type": "code",
      "source": [
        "list_tuple = [(10, 20, 40), (40, 50, 60), (70, 80, 90)]\n",
        "new_list = []\n",
        "for x,y,z in list_tuple:\n",
        "  new_list.append((x,y,100))\n",
        "print(new_list)"
      ],
      "metadata": {
        "colab": {
          "base_uri": "https://localhost:8080/"
        },
        "id": "Fb9Nh2Wrnyp_",
        "outputId": "cf39cac0-46d3-4598-83a5-984fa0b2daa3"
      },
      "execution_count": 20,
      "outputs": [
        {
          "output_type": "stream",
          "name": "stdout",
          "text": [
            "[(10, 20, 100), (40, 50, 100), (70, 80, 100)]\n"
          ]
        }
      ]
    },
    {
      "cell_type": "markdown",
      "source": [
        "18. Write a Python program to sort a tuple by its float element"
      ],
      "metadata": {
        "id": "D_WUt0iKmOS1"
      }
    },
    {
      "cell_type": "code",
      "source": [
        "tuple5 = (1.41, 21.15, 13.23, 4.964, 58.2)\n",
        "print(sorted(tuple5, reverse = True))"
      ],
      "metadata": {
        "colab": {
          "base_uri": "https://localhost:8080/"
        },
        "id": "bo6AEfwHW8_O",
        "outputId": "ff1fca09-a167-4bb4-d522-fde20a9cd5f9"
      },
      "execution_count": 11,
      "outputs": [
        {
          "output_type": "stream",
          "name": "stdout",
          "text": [
            "[58.2, 21.15, 13.23, 4.964, 1.41]\n"
          ]
        }
      ]
    }
  ]
}