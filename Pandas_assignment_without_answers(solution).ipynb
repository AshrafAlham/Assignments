{
  "nbformat": 4,
  "nbformat_minor": 0,
  "metadata": {
    "colab": {
      "private_outputs": true,
      "provenance": []
    },
    "kernelspec": {
      "name": "python3",
      "display_name": "Python 3"
    },
    "language_info": {
      "name": "python"
    }
  },
  "cells": [
    {
      "cell_type": "markdown",
      "source": [
        "# Explanation of data"
      ],
      "metadata": {
        "id": "D7vv7luF6AI9"
      }
    },
    {
      "cell_type": "code",
      "source": [],
      "metadata": {
        "id": "nLptl2Lex0Dt"
      },
      "execution_count": null,
      "outputs": []
    },
    {
      "cell_type": "markdown",
      "source": [
        "## 1-total_bill:\n",
        "\n",
        "Description: The total amount of the bill (in dollars) for the meal, including the cost of food and drinks.\n",
        "Data Type: Float\n",
        "Example: 16.99\n",
        "## 2-tip:\n",
        "\n",
        "Description: The amount of the tip (in dollars) given by the customer to the server.\n",
        "Data Type: Float\n",
        "Example: 1.01\n",
        "## 3-sex:\n",
        "\n",
        "Description: The gender of the person who paid for the meal.\n",
        "Data Type: Categorical (string)\n",
        "Possible Values: 'Male', 'Female'\n",
        "Example: 'Female'\n",
        "## 4-smoker:\n",
        "\n",
        "Description: Indicates whether there were smokers in the party.\n",
        "Data Type: Categorical (string)\n",
        "Possible Values: 'Yes', 'No'\n",
        "Example: 'No'\n",
        "## 5-day:\n",
        "\n",
        "Description: The day of the week when the meal was served.\n",
        "Data Type: Categorical (string)\n",
        "Possible Values: 'Thur' (Thursday), 'Fri' (Friday), 'Sat' (Saturday), 'Sun' (Sunday)\n",
        "Example: 'Sun'\n",
        "## 6-time:\n",
        "\n",
        "Description: The time of day when the meal was served.\n",
        "Data Type: Categorical (string)\n",
        "Possible Values: 'Lunch', 'Dinner'\n",
        "Example: 'Dinner'\n",
        "## 7-size:\n",
        "\n",
        "Description: The number of people in the party.\n",
        "Data Type: Integer\n",
        "Example: 2"
      ],
      "metadata": {
        "id": "KNHUt5m45s9k"
      }
    },
    {
      "cell_type": "markdown",
      "source": [
        "## Load the dataset"
      ],
      "metadata": {
        "id": "X_cxp0rIzH6Y"
      }
    },
    {
      "cell_type": "code",
      "source": [
        "import pandas as pd\n",
        "df = pd.read_csv(\"/content/tips.csv\")"
      ],
      "metadata": {
        "id": "MPtL-2wVx5DN"
      },
      "execution_count": null,
      "outputs": []
    },
    {
      "cell_type": "code",
      "source": [],
      "metadata": {
        "id": "pAcF24RFymiK"
      },
      "execution_count": null,
      "outputs": []
    },
    {
      "cell_type": "markdown",
      "source": [
        "## Display the first few rows"
      ],
      "metadata": {
        "id": "4pSqsPPKzMI-"
      }
    },
    {
      "cell_type": "code",
      "source": [
        "df"
      ],
      "metadata": {
        "id": "q9FfEPs_ydv8"
      },
      "execution_count": null,
      "outputs": []
    },
    {
      "cell_type": "code",
      "source": [],
      "metadata": {
        "id": "dR5Lpifbykyk"
      },
      "execution_count": null,
      "outputs": []
    },
    {
      "cell_type": "markdown",
      "source": [
        "## Question 1: What is the average total bill amount?"
      ],
      "metadata": {
        "id": "QnWpnuZpzWnw"
      }
    },
    {
      "cell_type": "code",
      "source": [
        "total_bill_mean = df[\"total_bill\"].mean()\n",
        "total_bill_mean"
      ],
      "metadata": {
        "id": "gAiCvltRyo-G"
      },
      "execution_count": null,
      "outputs": []
    },
    {
      "cell_type": "code",
      "source": [],
      "metadata": {
        "id": "nyAIRlMwyxaM"
      },
      "execution_count": null,
      "outputs": []
    },
    {
      "cell_type": "markdown",
      "source": [
        "## Question 2: How many records are in the dataset?\n"
      ],
      "metadata": {
        "id": "JHCnMe-kzk20"
      }
    },
    {
      "cell_type": "code",
      "source": [
        "df.count()"
      ],
      "metadata": {
        "id": "vW_UaehPyzGS"
      },
      "execution_count": null,
      "outputs": []
    },
    {
      "cell_type": "markdown",
      "source": [
        "## Question 3: What is the total amount of tips given by male customers?\n"
      ],
      "metadata": {
        "id": "SPo07k6SzoI2"
      }
    },
    {
      "cell_type": "code",
      "source": [
        "sex_group = df.groupby(\"sex\")\n",
        "male_group = sex_group.get_group(\"Male\")\n",
        "male_group[\"tip\"].sum()"
      ],
      "metadata": {
        "id": "GR-jHpYI0llC"
      },
      "execution_count": null,
      "outputs": []
    },
    {
      "cell_type": "code",
      "source": [],
      "metadata": {
        "id": "aawQOJRJdMct"
      },
      "execution_count": null,
      "outputs": []
    },
    {
      "cell_type": "markdown",
      "source": [
        "## Question 4: What is the maximum tip given?\n"
      ],
      "metadata": {
        "id": "1VacIheWzxVx"
      }
    },
    {
      "cell_type": "code",
      "source": [
        "df[\"tip\"].max()"
      ],
      "metadata": {
        "id": "6CMgfN5C2pvW"
      },
      "execution_count": null,
      "outputs": []
    },
    {
      "cell_type": "markdown",
      "source": [
        "## Question 5: What are the unique days on which the tips were recorded?\n"
      ],
      "metadata": {
        "id": "BpjN-WYaz1Zb"
      }
    },
    {
      "cell_type": "code",
      "source": [
        "df.dropna()\n",
        "df[\"day\"].unique()\n"
      ],
      "metadata": {
        "id": "sPoZAzGY2xAj"
      },
      "execution_count": null,
      "outputs": []
    },
    {
      "cell_type": "code",
      "source": [],
      "metadata": {
        "id": "aR86KpZBxVgy"
      },
      "execution_count": null,
      "outputs": []
    },
    {
      "cell_type": "code",
      "source": [],
      "metadata": {
        "id": "kIihq5mmxP1V"
      },
      "execution_count": null,
      "outputs": []
    },
    {
      "cell_type": "code",
      "source": [],
      "metadata": {
        "id": "5AD4Ej3dw0M6"
      },
      "execution_count": null,
      "outputs": []
    },
    {
      "cell_type": "markdown",
      "source": [
        "## Question 6: What is the average tip amount given by female customers?\n"
      ],
      "metadata": {
        "id": "G5o62RuK0oSi"
      }
    },
    {
      "cell_type": "code",
      "source": [
        "sex_group.get_group(\"Female\")[\"tip\"].mean()"
      ],
      "metadata": {
        "id": "Smu2AkvTz5fR"
      },
      "execution_count": null,
      "outputs": []
    },
    {
      "cell_type": "code",
      "source": [],
      "metadata": {
        "id": "W-UODGP96zwh"
      },
      "execution_count": null,
      "outputs": []
    },
    {
      "cell_type": "code",
      "source": [],
      "metadata": {
        "id": "BI_iw6nGdRk4"
      },
      "execution_count": null,
      "outputs": []
    },
    {
      "cell_type": "markdown",
      "source": [
        "## Question 7: How many customers are non-smokers?\n"
      ],
      "metadata": {
        "id": "rcr7bhgL0tEf"
      }
    },
    {
      "cell_type": "code",
      "source": [
        "smoker_group = df.groupby(\"smoker\")\n",
        "print(f\"number of customers are non-smokers is: {smoker_group.get_group('No')['size'].count()}\")"
      ],
      "metadata": {
        "id": "RXcCoTcY4hP5"
      },
      "execution_count": null,
      "outputs": []
    },
    {
      "cell_type": "code",
      "source": [],
      "metadata": {
        "id": "eC6nlHCaA785"
      },
      "execution_count": null,
      "outputs": []
    },
    {
      "cell_type": "markdown",
      "source": [
        "## Question 8: What is the average total bill for dinners?\n"
      ],
      "metadata": {
        "id": "TX7HPM790yz3"
      }
    },
    {
      "cell_type": "code",
      "source": [
        "time_group = df.groupby(\"time\")\n",
        "time_group.get_group(\"Dinner\")[\"total_bill\"].mean()"
      ],
      "metadata": {
        "id": "Ti6vHNQCS7Od"
      },
      "execution_count": null,
      "outputs": []
    },
    {
      "cell_type": "markdown",
      "source": [
        "## Question 9: What is the smallest size of a group recorded?\n"
      ],
      "metadata": {
        "id": "PUKHp45z04H8"
      }
    },
    {
      "cell_type": "code",
      "source": [
        "df[\"size\"].min()"
      ],
      "metadata": {
        "id": "flb8Z4Oe3Ky4"
      },
      "execution_count": null,
      "outputs": []
    },
    {
      "cell_type": "code",
      "source": [],
      "metadata": {
        "id": "3UN6TDJx3NQs"
      },
      "execution_count": null,
      "outputs": []
    },
    {
      "cell_type": "markdown",
      "source": [
        "## Question 10: What is the standard deviation of the total bill amounts?\n"
      ],
      "metadata": {
        "id": "b5CzsW2-1H5D"
      }
    },
    {
      "cell_type": "code",
      "source": [
        "df[\"total_bill\"].std()"
      ],
      "metadata": {
        "id": "xu9YY4r83PVC"
      },
      "execution_count": null,
      "outputs": []
    },
    {
      "cell_type": "markdown",
      "source": [
        "## Question 11: How many male smokers are there compared to female smokers?\n"
      ],
      "metadata": {
        "id": "YSNjWBeD1lc-"
      }
    },
    {
      "cell_type": "code",
      "source": [
        "mf = df.groupby(\"sex\")[\"smoker\"].count()\n",
        "mf"
      ],
      "metadata": {
        "id": "7PMezDPt5Bp5"
      },
      "execution_count": null,
      "outputs": []
    },
    {
      "cell_type": "markdown",
      "source": [
        "## Question 12: How much more do male customers tip on average than female customers?"
      ],
      "metadata": {
        "id": "dpN7kz5_2gra"
      }
    },
    {
      "cell_type": "code",
      "source": [
        "sex_group = df.groupby(\"sex\")\n",
        "sex_group[\"tip\"].mean()"
      ],
      "metadata": {
        "id": "qtNPvEbwT3_E"
      },
      "execution_count": null,
      "outputs": []
    },
    {
      "cell_type": "code",
      "source": [],
      "metadata": {
        "id": "AjG7aWuqdX6Y"
      },
      "execution_count": null,
      "outputs": []
    },
    {
      "cell_type": "markdown",
      "source": [
        "## Question 13: What is the median tip amount given by customers on Thursdays?"
      ],
      "metadata": {
        "id": "b7mTBmr_2ruR"
      }
    },
    {
      "cell_type": "code",
      "source": [
        "d = df.groupby(\"day\")\n",
        "d.get_group(\"Thur\")[\"tip\"].median()"
      ],
      "metadata": {
        "id": "bFxcLMiaUK02"
      },
      "execution_count": null,
      "outputs": []
    },
    {
      "cell_type": "markdown",
      "source": [
        "## Question 14: What is the total tip amount given by customers on Friday?\n"
      ],
      "metadata": {
        "id": "QHElT5hT20Oy"
      }
    },
    {
      "cell_type": "code",
      "source": [
        "d.get_group(\"Fri\")[\"tip\"].sum()"
      ],
      "metadata": {
        "id": "UjVjA2nMUrvy"
      },
      "execution_count": null,
      "outputs": []
    },
    {
      "cell_type": "markdown",
      "source": [
        "## Question 15: What is the average tip amount for non-smokers during dinner time?"
      ],
      "metadata": {
        "id": "TrGCWY4M3BXA"
      }
    },
    {
      "cell_type": "code",
      "source": [
        "time_group.get_group(\"Dinner\")[\"tip\"].mean()"
      ],
      "metadata": {
        "id": "Aau5O5dqWBrs"
      },
      "execution_count": null,
      "outputs": []
    },
    {
      "cell_type": "markdown",
      "source": [
        "## Question 16: How much does the total bill vary between smokers and non-smokers?"
      ],
      "metadata": {
        "id": "GX4IpGLw3apS"
      }
    },
    {
      "cell_type": "code",
      "source": [
        "smoker_group = df.groupby(\"smoker\")\n",
        "smoker_group[\"total_bill\"].count()"
      ],
      "metadata": {
        "id": "f-gP94FbcZwx"
      },
      "execution_count": null,
      "outputs": []
    },
    {
      "cell_type": "code",
      "source": [],
      "metadata": {
        "id": "W1B_C9pJuxmO"
      },
      "execution_count": null,
      "outputs": []
    },
    {
      "cell_type": "code",
      "source": [],
      "metadata": {
        "id": "wPyTk6-pula1"
      },
      "execution_count": null,
      "outputs": []
    },
    {
      "cell_type": "markdown",
      "source": [
        "## Question 17: What is the most common day for customers to visit the restaurant?"
      ],
      "metadata": {
        "id": "sk1RdKdA3gjW"
      }
    },
    {
      "cell_type": "code",
      "source": [
        "df[\"day\"].value_counts()"
      ],
      "metadata": {
        "id": "SJV_5PkcchuU"
      },
      "execution_count": null,
      "outputs": []
    },
    {
      "cell_type": "markdown",
      "source": [
        "## Question 18: What is the range of tip amounts for female customers?\n"
      ],
      "metadata": {
        "id": "JZPzrSv13s5l"
      }
    },
    {
      "cell_type": "code",
      "source": [
        "sex_group.get_group(\"Female\")[\"tip\"].max()-sex_group.get_group(\"Female\")[\"tip\"].min()"
      ],
      "metadata": {
        "id": "AreV2nHgdCU1"
      },
      "execution_count": null,
      "outputs": []
    },
    {
      "cell_type": "markdown",
      "source": [
        "## Question 19: Calculate the total bill for parties of 5 or more people (size).\n"
      ],
      "metadata": {
        "id": "9Ph119P83yt9"
      }
    },
    {
      "cell_type": "code",
      "source": [
        "df[df[\"size\"].map(lambda x: x > 5)][\"total_bill\"].sum()"
      ],
      "metadata": {
        "id": "igLGFO4IeZLS"
      },
      "execution_count": null,
      "outputs": []
    },
    {
      "cell_type": "markdown",
      "source": [
        "## Question 20: What is the highest total bill recorded during lunch?\n"
      ],
      "metadata": {
        "id": "yzo5Sqdk39Aw"
      }
    },
    {
      "cell_type": "code",
      "source": [
        "time_group.get_group(\"Lunch\")[\"total_bill\"].max()"
      ],
      "metadata": {
        "id": "huegSOW-fTkz"
      },
      "execution_count": null,
      "outputs": []
    },
    {
      "cell_type": "markdown",
      "source": [
        "## Question 21: How many customers visited the restaurant on weekends (Saturday and Sunday) and ordered a total bill of more than $20?"
      ],
      "metadata": {
        "id": "4MeSEXbB4HG8"
      }
    },
    {
      "cell_type": "markdown",
      "source": [
        "\n",
        "\n",
        "```\n",
        "# Hint isin ()\n",
        "\n",
        "```\n",
        "\n"
      ],
      "metadata": {
        "id": "WIgnNtRO4K6L"
      }
    },
    {
      "cell_type": "code",
      "source": [
        "weekend = df[(df[\"day\"] == \"Sat\") | (df[\"day\"] == \"Sun\") ]\n",
        "weekend[weekend[\"total_bill\"].map(lambda x: x > 20)][\"size\"].sum()"
      ],
      "metadata": {
        "id": "gQDSaviK4J3y"
      },
      "execution_count": null,
      "outputs": []
    }
  ]
}