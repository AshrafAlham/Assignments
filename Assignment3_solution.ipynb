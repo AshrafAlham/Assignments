{
  "nbformat": 4,
  "nbformat_minor": 0,
  "metadata": {
    "colab": {
      "provenance": []
    },
    "kernelspec": {
      "name": "python3",
      "display_name": "Python 3"
    },
    "language_info": {
      "name": "python"
    }
  },
  "cells": [
    {
      "cell_type": "markdown",
      "source": [
        "1- implement Fibonacci series using recursion"
      ],
      "metadata": {
        "id": "OpvXGt9OH9ZO"
      }
    },
    {
      "cell_type": "code",
      "source": [
        "fabionacci_numbers = [0,1]\n",
        "for i in range(2,50):\n",
        "  fabionacci_numbers.append(fabionacci_numbers[i-1] + fabionacci_numbers[i-2])\n",
        "print(fabionacci_numbers)\n"
      ],
      "metadata": {
        "colab": {
          "base_uri": "https://localhost:8080/"
        },
        "id": "Jc1DRwfwK38s",
        "outputId": "85bfe3ee-065e-4c46-fe6b-b04c11fae1c2"
      },
      "execution_count": 8,
      "outputs": [
        {
          "output_type": "stream",
          "name": "stdout",
          "text": [
            "[0, 1, 1, 2, 3, 5, 8, 13, 21, 34, 55, 89, 144, 233, 377, 610, 987, 1597, 2584, 4181, 6765, 10946, 17711, 28657, 46368, 75025, 121393, 196418, 317811, 514229, 832040, 1346269, 2178309, 3524578, 5702887, 9227465, 14930352, 24157817, 39088169, 63245986, 102334155, 165580141, 267914296, 433494437, 701408733, 1134903170, 1836311903, 2971215073, 4807526976, 7778742049]\n"
          ]
        }
      ]
    },
    {
      "cell_type": "markdown",
      "source": [
        "2- Write a python program to find all the unique words and count the frequency of occurence from a given list of strings"
      ],
      "metadata": {
        "id": "pQCDeSBZH-43"
      }
    },
    {
      "cell_type": "code",
      "source": [
        "str_list = [\"wood\", \"door\", \"bed\", \"bed\", \"bed\", \"door\", \"wood\"]\n",
        "str_count={}\n",
        "for item in str_list:\n",
        "  str_count[item] = str_list.count(item)\n",
        "print(str_count)\n"
      ],
      "metadata": {
        "colab": {
          "base_uri": "https://localhost:8080/"
        },
        "id": "xlfKm-fgxFjC",
        "outputId": "b5aef4c7-493c-4436-b9d1-3ac28b6520f8"
      },
      "execution_count": 3,
      "outputs": [
        {
          "output_type": "stream",
          "name": "stdout",
          "text": [
            "{'wood': 2, 'door': 2, 'bed': 3}\n"
          ]
        }
      ]
    },
    {
      "cell_type": "markdown",
      "source": [
        "3- write a python program that finds all pairs of elements in a list whose sum is equal to a given value"
      ],
      "metadata": {
        "id": "3v-pbdvUH_B-"
      }
    },
    {
      "cell_type": "code",
      "source": [
        "def pairs_sum(n):\n",
        "  elements = [1, 2, 3, 4, 5, 6, 7, 8, 9, 10]\n",
        "  pairs = []\n",
        "  for element in elements:\n",
        "      k = elements.pop()\n",
        "      x = n - k\n",
        "      if x in elements:\n",
        "        pairs.append((x, k))\n",
        "  print(pairs)\n",
        "\n",
        "pairs_sum(15)\n",
        "\n"
      ],
      "metadata": {
        "colab": {
          "base_uri": "https://localhost:8080/"
        },
        "id": "dRJ6zc8OywjH",
        "outputId": "cd9b135e-05c3-4be8-f98c-9c8e3e63c8ad"
      },
      "execution_count": 11,
      "outputs": [
        {
          "output_type": "stream",
          "name": "stdout",
          "text": [
            "[(5, 10), (6, 9), (7, 8)]\n"
          ]
        }
      ]
    },
    {
      "cell_type": "markdown",
      "source": [
        "4- Write a python program to find the two numbers whose product is maximum among all the pairs in a given list of numbers"
      ],
      "metadata": {
        "id": "pYyYlgQwH_F0"
      }
    },
    {
      "cell_type": "code",
      "source": [
        "elements = [1, 12, -33, 64, -45, 16, 70, 8, 19, 10]\n",
        "elements.sort()\n",
        "print((elements[-2:]))\n",
        "\n",
        "# abs_elements = []\n",
        "# for i in elements:\n",
        "#   abs_elements.append(abs(i))"
      ],
      "metadata": {
        "colab": {
          "base_uri": "https://localhost:8080/"
        },
        "id": "7u1U5wG137Jf",
        "outputId": "982ef10b-5716-40fe-cef3-3c87d3bb9e49"
      },
      "execution_count": 37,
      "outputs": [
        {
          "output_type": "stream",
          "name": "stdout",
          "text": [
            "[64, 70]\n"
          ]
        }
      ]
    },
    {
      "cell_type": "markdown",
      "source": [
        "5- Write a python function that takes a number as a parameter and checks whether the number is prime or not"
      ],
      "metadata": {
        "id": "nw9htXpxH_Jl"
      }
    },
    {
      "cell_type": "code",
      "source": [
        "def is_prime(n):\n",
        "  for i in range(2,n):\n",
        "    if n % i == 0:\n",
        "      return False\n",
        "  return True\n",
        "\n",
        "is_prime(13)\n"
      ],
      "metadata": {
        "colab": {
          "base_uri": "https://localhost:8080/"
        },
        "id": "WTMHS39N6kpH",
        "outputId": "e8dd682c-2661-4224-fdae-4648c73d64c0"
      },
      "execution_count": 13,
      "outputs": [
        {
          "output_type": "execute_result",
          "data": {
            "text/plain": [
              "True"
            ]
          },
          "metadata": {},
          "execution_count": 13
        }
      ]
    },
    {
      "cell_type": "markdown",
      "source": [
        "6- Write a python function to print the even numbers from a given list."
      ],
      "metadata": {
        "id": "fMLcROApH_Ma"
      }
    },
    {
      "cell_type": "code",
      "source": [
        "numbers = [1, 2, 3, 4, 5, 6, 7, 8, 9, 10]\n",
        "for number in numbers:\n",
        "  if number % 2 ==0:\n",
        "    print(number)"
      ],
      "metadata": {
        "colab": {
          "base_uri": "https://localhost:8080/"
        },
        "id": "EmAet2yH7Cuu",
        "outputId": "aeca80d4-be5c-4694-9e39-deb830fdf83f"
      },
      "execution_count": 14,
      "outputs": [
        {
          "output_type": "stream",
          "name": "stdout",
          "text": [
            "2\n",
            "4\n",
            "6\n",
            "8\n",
            "10\n"
          ]
        }
      ]
    },
    {
      "cell_type": "markdown",
      "source": [
        "7- Write a function that will take a given string and reverse the order of words."
      ],
      "metadata": {
        "id": "x22POrq3H_Ok"
      }
    },
    {
      "cell_type": "code",
      "source": [
        "def reverse_string(text):\n",
        "  reversed_text = \" \".join((text.split()[::-1]))\n",
        "  print(reversed_text)\n",
        "\n",
        "text = \"Welcome to python and AI diploma\"\n",
        "reverse_string(text)"
      ],
      "metadata": {
        "colab": {
          "base_uri": "https://localhost:8080/"
        },
        "id": "ljf3f-pu7RQy",
        "outputId": "756a3560-4b82-4a2b-f718-d0445b44d50e"
      },
      "execution_count": 20,
      "outputs": [
        {
          "output_type": "stream",
          "name": "stdout",
          "text": [
            "diploma AI and python to Welcome\n"
          ]
        }
      ]
    },
    {
      "cell_type": "markdown",
      "source": [
        "8- Given an integer x, return true if x is a palindrome, and false otherwise."
      ],
      "metadata": {
        "id": "EzZhIC2mH_RV"
      }
    },
    {
      "cell_type": "code",
      "source": [
        "def is_palindrome(number):\n",
        "  reversed_number = \"\".join(reversed(str(number)))\n",
        "  if str(number) == reversed_number:\n",
        "    return True\n",
        "  else:\n",
        "    return False\n",
        "\n",
        "number = 135\n",
        "is_palindrome(number)"
      ],
      "metadata": {
        "colab": {
          "base_uri": "https://localhost:8080/"
        },
        "id": "8DkE7YdG88qC",
        "outputId": "ba241e26-aeee-4e28-a110-e06fec3e39c1"
      },
      "execution_count": 27,
      "outputs": [
        {
          "output_type": "execute_result",
          "data": {
            "text/plain": [
              "False"
            ]
          },
          "metadata": {},
          "execution_count": 27
        }
      ]
    },
    {
      "cell_type": "markdown",
      "source": [
        "9- Write a python function that checks whether a passed string is palindrome or not."
      ],
      "metadata": {
        "id": "eZ5ZVNcnH_UU"
      }
    },
    {
      "cell_type": "code",
      "source": [
        "def is_palindrome(word):\n",
        "  reversed_word = \"\".join(reversed(word))\n",
        "  if word == reversed_word:\n",
        "    return True\n",
        "  else:\n",
        "    return False\n",
        "\n",
        "word = \"sedes\"\n",
        "is_palindrome(word)"
      ],
      "metadata": {
        "id": "_4mhcou59j8u"
      },
      "execution_count": null,
      "outputs": []
    },
    {
      "cell_type": "markdown",
      "source": [
        "10- Write a python function to create and print a list where the values are the square of numbers between 1 and 30 (both included)."
      ],
      "metadata": {
        "id": "EB0MqH9RKNbf"
      }
    },
    {
      "cell_type": "code",
      "source": [
        "def square():\n",
        "  square_numbers = []\n",
        "  for number in range(1, 31):\n",
        "    square_numbers.append(number**2)\n",
        "  print(square_numbers)\n",
        "\n",
        "square()\n"
      ],
      "metadata": {
        "colab": {
          "base_uri": "https://localhost:8080/"
        },
        "id": "0HtoquZG-Pl_",
        "outputId": "138d6fae-83af-45b9-c3d5-71840d253478"
      },
      "execution_count": 29,
      "outputs": [
        {
          "output_type": "stream",
          "name": "stdout",
          "text": [
            "[1, 4, 9, 16, 25, 36, 49, 64, 81, 100, 121, 144, 169, 196, 225, 256, 289, 324, 361, 400, 441, 484, 529, 576, 625, 676, 729, 784, 841, 900]\n"
          ]
        }
      ]
    }
  ]
}