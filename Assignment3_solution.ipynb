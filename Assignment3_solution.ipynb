{
 "cells": [
  {
   "cell_type": "markdown",
   "metadata": {
    "id": "OpvXGt9OH9ZO"
   },
   "source": [
    "1- implement Fibonacci series using recursion"
   ]
  },
  {
   "cell_type": "code",
   "execution_count": 8,
   "metadata": {
    "colab": {
     "base_uri": "https://localhost:8080/"
    },
    "id": "Jc1DRwfwK38s",
    "outputId": "85bfe3ee-065e-4c46-fe6b-b04c11fae1c2"
   },
   "outputs": [
    {
     "name": "stdout",
     "output_type": "stream",
     "text": [
      "[0, 1, 1, 2, 3, 5, 8, 13, 21, 34, 55, 89, 144, 233, 377, 610, 987, 1597, 2584, 4181, 6765, 10946, 17711, 28657, 46368, 75025, 121393, 196418, 317811, 514229, 832040, 1346269, 2178309, 3524578, 5702887, 9227465, 14930352, 24157817, 39088169, 63245986, 102334155, 165580141, 267914296, 433494437, 701408733, 1134903170, 1836311903, 2971215073, 4807526976, 7778742049]\n"
     ]
    }
   ],
   "source": [
    "fabionacci_numbers = [0,1]\n",
    "for i in range(2,50):\n",
    "  fabionacci_numbers.append(fabionacci_numbers[i-1] + fabionacci_numbers[i-2])\n",
    "print(fabionacci_numbers)\n"
   ]
  },
  {
   "cell_type": "markdown",
   "metadata": {
    "id": "pQCDeSBZH-43"
   },
   "source": [
    "2- Write a python program to find all the unique words and count the frequency of occurence from a given list of strings"
   ]
  },
  {
   "cell_type": "code",
   "execution_count": 3,
   "metadata": {
    "colab": {
     "base_uri": "https://localhost:8080/"
    },
    "id": "xlfKm-fgxFjC",
    "outputId": "b5aef4c7-493c-4436-b9d1-3ac28b6520f8"
   },
   "outputs": [
    {
     "name": "stdout",
     "output_type": "stream",
     "text": [
      "{'wood': 2, 'door': 2, 'bed': 3}\n"
     ]
    }
   ],
   "source": [
    "str_list = [\"wood\", \"door\", \"bed\", \"bed\", \"bed\", \"door\", \"wood\"]\n",
    "str_count={}\n",
    "for item in str_list:\n",
    "  str_count[item] = str_list.count(item)\n",
    "print(str_count)\n"
   ]
  },
  {
   "cell_type": "markdown",
   "metadata": {
    "id": "3v-pbdvUH_B-"
   },
   "source": [
    "3- write a python program that finds all pairs of elements in a list whose sum is equal to a given value"
   ]
  },
  {
   "cell_type": "code",
   "execution_count": 11,
   "metadata": {
    "colab": {
     "base_uri": "https://localhost:8080/"
    },
    "id": "dRJ6zc8OywjH",
    "outputId": "cd9b135e-05c3-4be8-f98c-9c8e3e63c8ad"
   },
   "outputs": [
    {
     "name": "stdout",
     "output_type": "stream",
     "text": [
      "[(5, 10), (6, 9), (7, 8)]\n"
     ]
    }
   ],
   "source": [
    "def pairs_sum(n):\n",
    "  elements = [1, 2, 3, 4, 5, 6, 7, 8, 9, 10]\n",
    "  pairs = []\n",
    "  for element in elements:\n",
    "      k = elements.pop()\n",
    "      x = n - k\n",
    "      if x in elements:\n",
    "        pairs.append((x, k))\n",
    "  print(pairs)\n",
    "\n",
    "pairs_sum(15)\n",
    "\n"
   ]
  },
  {
   "cell_type": "markdown",
   "metadata": {
    "id": "pYyYlgQwH_F0"
   },
   "source": [
    "4- Write a python program to find the two numbers whose product is maximum among all the pairs in a given list of numbers"
   ]
  },
  {
   "cell_type": "code",
   "execution_count": 1,
   "metadata": {
    "colab": {
     "base_uri": "https://localhost:8080/"
    },
    "id": "7u1U5wG137Jf",
    "outputId": "982ef10b-5716-40fe-cef3-3c87d3bb9e49"
   },
   "outputs": [
    {
     "name": "stdout",
     "output_type": "stream",
     "text": [
      "[64, 70]\n"
     ]
    }
   ],
   "source": [
    "elements = [1, 12, 33, 64, 45, 16, 70, 8, 19, 10]\n",
    "elements.sort()\n",
    "print((elements[-2:]))\n",
    "\n",
    "# abs_elements = []\n",
    "# for i in elements:\n",
    "#   abs_elements.append(abs(i))"
   ]
  },
  {
   "cell_type": "code",
   "execution_count": null,
   "metadata": {},
   "outputs": [],
   "source": []
  },
  {
   "cell_type": "markdown",
   "metadata": {
    "id": "nw9htXpxH_Jl"
   },
   "source": [
    "5- Write a python function that takes a number as a parameter and checks whether the number is prime or not"
   ]
  },
  {
   "cell_type": "code",
   "execution_count": 13,
   "metadata": {
    "colab": {
     "base_uri": "https://localhost:8080/"
    },
    "id": "WTMHS39N6kpH",
    "outputId": "e8dd682c-2661-4224-fdae-4648c73d64c0"
   },
   "outputs": [
    {
     "data": {
      "text/plain": [
       "True"
      ]
     },
     "execution_count": 13,
     "metadata": {},
     "output_type": "execute_result"
    }
   ],
   "source": [
    "def is_prime(n):\n",
    "  for i in range(2,n):\n",
    "    if n % i == 0:\n",
    "      return False\n",
    "  return True\n",
    "\n",
    "is_prime(13)\n"
   ]
  },
  {
   "cell_type": "markdown",
   "metadata": {
    "id": "fMLcROApH_Ma"
   },
   "source": [
    "6- Write a python function to print the even numbers from a given list."
   ]
  },
  {
   "cell_type": "code",
   "execution_count": 14,
   "metadata": {
    "colab": {
     "base_uri": "https://localhost:8080/"
    },
    "id": "EmAet2yH7Cuu",
    "outputId": "aeca80d4-be5c-4694-9e39-deb830fdf83f"
   },
   "outputs": [
    {
     "name": "stdout",
     "output_type": "stream",
     "text": [
      "2\n",
      "4\n",
      "6\n",
      "8\n",
      "10\n"
     ]
    }
   ],
   "source": [
    "numbers = [1, 2, 3, 4, 5, 6, 7, 8, 9, 10]\n",
    "for number in numbers:\n",
    "  if number % 2 ==0:\n",
    "    print(number)"
   ]
  },
  {
   "cell_type": "markdown",
   "metadata": {
    "id": "x22POrq3H_Ok"
   },
   "source": [
    "7- Write a function that will take a given string and reverse the order of words."
   ]
  },
  {
   "cell_type": "code",
   "execution_count": 20,
   "metadata": {
    "colab": {
     "base_uri": "https://localhost:8080/"
    },
    "id": "ljf3f-pu7RQy",
    "outputId": "756a3560-4b82-4a2b-f718-d0445b44d50e"
   },
   "outputs": [
    {
     "name": "stdout",
     "output_type": "stream",
     "text": [
      "diploma AI and python to Welcome\n"
     ]
    }
   ],
   "source": [
    "def reverse_string(text):\n",
    "  reversed_text = \" \".join((text.split()[::-1]))\n",
    "  print(reversed_text)\n",
    "\n",
    "text = \"Welcome to python and AI diploma\"\n",
    "reverse_string(text)"
   ]
  },
  {
   "cell_type": "markdown",
   "metadata": {
    "id": "EzZhIC2mH_RV"
   },
   "source": [
    "8- Given an integer x, return true if x is a palindrome, and false otherwise."
   ]
  },
  {
   "cell_type": "code",
   "execution_count": 27,
   "metadata": {
    "colab": {
     "base_uri": "https://localhost:8080/"
    },
    "id": "8DkE7YdG88qC",
    "outputId": "ba241e26-aeee-4e28-a110-e06fec3e39c1"
   },
   "outputs": [
    {
     "data": {
      "text/plain": [
       "False"
      ]
     },
     "execution_count": 27,
     "metadata": {},
     "output_type": "execute_result"
    }
   ],
   "source": [
    "def is_palindrome(number):\n",
    "  reversed_number = \"\".join(reversed(str(number)))\n",
    "  if str(number) == reversed_number:\n",
    "    return True\n",
    "  else:\n",
    "    return False\n",
    "\n",
    "number = 135\n",
    "is_palindrome(number)"
   ]
  },
  {
   "cell_type": "markdown",
   "metadata": {
    "id": "eZ5ZVNcnH_UU"
   },
   "source": [
    "9- Write a python function that checks whether a passed string is palindrome or not."
   ]
  },
  {
   "cell_type": "code",
   "execution_count": null,
   "metadata": {
    "id": "_4mhcou59j8u"
   },
   "outputs": [],
   "source": [
    "def is_palindrome(word):\n",
    "  reversed_word = \"\".join(reversed(word))\n",
    "  if word == reversed_word:\n",
    "    return True\n",
    "  else:\n",
    "    return False\n",
    "\n",
    "word = \"sedes\"\n",
    "is_palindrome(word)"
   ]
  },
  {
   "cell_type": "markdown",
   "metadata": {
    "id": "EB0MqH9RKNbf"
   },
   "source": [
    "10- Write a python function to create and print a list where the values are the square of numbers between 1 and 30 (both included)."
   ]
  },
  {
   "cell_type": "code",
   "execution_count": 29,
   "metadata": {
    "colab": {
     "base_uri": "https://localhost:8080/"
    },
    "id": "0HtoquZG-Pl_",
    "outputId": "138d6fae-83af-45b9-c3d5-71840d253478"
   },
   "outputs": [
    {
     "name": "stdout",
     "output_type": "stream",
     "text": [
      "[1, 4, 9, 16, 25, 36, 49, 64, 81, 100, 121, 144, 169, 196, 225, 256, 289, 324, 361, 400, 441, 484, 529, 576, 625, 676, 729, 784, 841, 900]\n"
     ]
    }
   ],
   "source": [
    "def square():\n",
    "  square_numbers = []\n",
    "  for number in range(1, 31):\n",
    "    square_numbers.append(number**2)\n",
    "  print(square_numbers)\n",
    "\n",
    "square()\n"
   ]
  }
 ],
 "metadata": {
  "colab": {
   "provenance": []
  },
  "kernelspec": {
   "display_name": "Python 3 (ipykernel)",
   "language": "python",
   "name": "python3"
  },
  "language_info": {
   "codemirror_mode": {
    "name": "ipython",
    "version": 3
   },
   "file_extension": ".py",
   "mimetype": "text/x-python",
   "name": "python",
   "nbconvert_exporter": "python",
   "pygments_lexer": "ipython3",
   "version": "3.11.7"
  }
 },
 "nbformat": 4,
 "nbformat_minor": 1
}
