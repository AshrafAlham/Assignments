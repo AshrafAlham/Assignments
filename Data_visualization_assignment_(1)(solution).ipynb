{
  "nbformat": 4,
  "nbformat_minor": 0,
  "metadata": {
    "colab": {
      "private_outputs": true,
      "provenance": []
    },
    "kernelspec": {
      "name": "python3",
      "display_name": "Python 3"
    },
    "language_info": {
      "name": "python"
    }
  },
  "cells": [
    {
      "cell_type": "markdown",
      "source": [
        "# Exercise 1: Load the Tips Dataset\n",
        "- Import the necessary libraries (seaborn, matplotlib.pyplot, and pandas).\n",
        "- Load the Tips dataset from Seaborn."
      ],
      "metadata": {
        "id": "EOJY5OG1NBwU"
      }
    },
    {
      "cell_type": "code",
      "source": [
        "import numpy as np\n",
        "import pandas as pd\n",
        "import matplotlib.pyplot as plt\n",
        "import seaborn as sns\n",
        "sns.set(style = \"darkgrid\")\n",
        "df = sns.load_dataset(\"tips\")\n",
        "df"
      ],
      "metadata": {
        "id": "JLk2WNoQ4iXh"
      },
      "execution_count": null,
      "outputs": []
    },
    {
      "cell_type": "markdown",
      "source": [
        "# Exercise 2: Scatter Plot"
      ],
      "metadata": {
        "id": "tFwa7RjkNJLR"
      }
    },
    {
      "cell_type": "markdown",
      "source": [
        "- Create a scatter plot using Seaborn to visualize the relationship between total_bill and tip.\n",
        "\n",
        "- Add different colors for different days of the week."
      ],
      "metadata": {
        "id": "VWfi4cv1NL7L"
      }
    },
    {
      "cell_type": "code",
      "source": [
        "sns.scatterplot(x = \"total_bill\", y= \"tip\", hue = \"day\",  data = df)\n",
        "plt.title(\"tips chart\")\n",
        "plt.show()"
      ],
      "metadata": {
        "id": "pZv8tihX5G-w"
      },
      "execution_count": null,
      "outputs": []
    },
    {
      "cell_type": "markdown",
      "source": [
        "# Exercise 3: Histogram\n",
        "- Create a histogram of the total_bill column using Matplotlib.\n"
      ],
      "metadata": {
        "id": "0kyjBC-sNYLT"
      }
    },
    {
      "cell_type": "code",
      "source": [
        "plt.hist(x = \"total_bill\", bins = 5)\n",
        "plt.show()"
      ],
      "metadata": {
        "id": "2N8hQM-t6Eh3"
      },
      "execution_count": null,
      "outputs": []
    },
    {
      "cell_type": "markdown",
      "source": [
        "# Exercise 4: Heatmap\n",
        "- Create a heatmap of the correlation matrix of the numerical columns in the Tips dataset using Seaborn."
      ],
      "metadata": {
        "id": "mZV8Zt2pNjzV"
      }
    },
    {
      "cell_type": "code",
      "source": [
        "plt.figure(figsize = (4, 4))\n",
        "corr = df.corr(numeric_only = True)\n",
        "sns.heatmap(corr, annot = True)\n",
        "plt.show()"
      ],
      "metadata": {
        "id": "phvFw9wl7-gN"
      },
      "execution_count": null,
      "outputs": []
    },
    {
      "cell_type": "markdown",
      "source": [
        "# Exercise 5: Bar Plot\n",
        "- Create a bar plot to show the average tip amount for each day using Seaborn."
      ],
      "metadata": {
        "id": "lgVFk_g6NyJd"
      }
    },
    {
      "cell_type": "code",
      "source": [
        "sns.barplot(x = \"day\", y = \"tip\", data= df)\n",
        "d = df.groupby(\"day\")[\"tip\"].mean()\n",
        "print(d)"
      ],
      "metadata": {
        "id": "qoKwKWxlAOX1"
      },
      "execution_count": null,
      "outputs": []
    },
    {
      "cell_type": "markdown",
      "source": [
        "# Exercise 6: Line Plot\n",
        "- Create a line plot to show the trend of tip amount over total_bill using Matplotlib."
      ],
      "metadata": {
        "id": "rxYL55rlODkd"
      }
    },
    {
      "cell_type": "code",
      "source": [
        "plt.plot(df[\"tip\"].sort_values(), df[\"total_bill\"])\n",
        "plt.title(\"Line plot\")\n",
        "plt.xlabel(\"total_bill\")\n",
        "plt.ylabel(\"tip\")\n",
        "plt.show()"
      ],
      "metadata": {
        "id": "LIQhEvANBS78"
      },
      "execution_count": null,
      "outputs": []
    },
    {
      "cell_type": "markdown",
      "source": [
        "# Exercise 7: Scatter Plots with Subplots\n",
        "- Create a figure with two subplots (1 row, 2 columns).\n",
        "- In the first subplot, create a scatter plot of total_bill vs tip.\n",
        "- In the second subplot, create a scatter plot of total_bill vs size."
      ],
      "metadata": {
        "id": "baPshpjGOZdz"
      }
    },
    {
      "cell_type": "code",
      "source": [
        "plt.figure(figsize=(2, 5))\n",
        "plt.subplot(1, 2, 1)\n",
        "plt.scatter(df[\"total_bill\"], df[\"tip\"])\n",
        "plt.subplot(1, 2, 2)\n",
        "sns.scatterplot(x =\"total_bill\", y=\"size\", data = df)\n",
        "plt.subplots_adjust(wspace = 1)\n",
        "plt.show()"
      ],
      "metadata": {
        "id": "ADkx1shvIL4_"
      },
      "execution_count": null,
      "outputs": []
    },
    {
      "cell_type": "markdown",
      "source": [
        "# Exercise 8: 2x2 Grid of Subplot\n",
        "- Plot the following in each subplot:\n",
        "- (1, 1): Scatter plot of total_bill vs tip\n",
        "- (1, 2): Histogram of total_bill\n",
        "- (2, 1): Box plot of total_bill by day\n",
        "- (2, 2): lineplot plot of total_bill vs tip"
      ],
      "metadata": {
        "id": "CvRWOqkJPG-Y"
      }
    },
    {
      "cell_type": "code",
      "source": [
        "plt.figure(figsize=(4, 4))\n",
        "plt.subplot(1, 1, 1)\n",
        "plt.scatter(df[\"total_bill\"], df[\"tip\"])\n",
        "plt.title(\"scatter plot\")\n",
        "plt.xlabel(\"total_bill\")\n",
        "plt.ylabel(\"tip\")\n",
        "plt.show()\n",
        "plt.subplot(1, 2, 1)\n",
        "plt.hist(df[\"total_bill\"])\n",
        "plt.title(\"Histogram plot\")\n",
        "plt.xlabel(\"total_bill\")\n",
        "plt.ylabel(\"count\")\n",
        "plt.show()\n",
        "plt.subplot(2, 1, 1)\n",
        "sns.boxplot(x = \"total_bill\", y=\"day\", data=df)\n",
        "plt.show()\n",
        "plt.subplot(2, 2, 1)\n",
        "plt.plot(df[\"total_bill\"].sort_values(), df[\"tip\"])\n",
        "plt.title(\"Line plot\")\n",
        "plt.xlabel(\"total_bill\")\n",
        "plt.ylabel(\"tip\")\n",
        "plt.show()\n",
        "\n"
      ],
      "metadata": {
        "id": "zCeUf8n7MqLI"
      },
      "execution_count": null,
      "outputs": []
    },
    {
      "cell_type": "markdown",
      "source": [
        "# Exercise 9: Customizing Subplot:\n",
        "- Plot the following in each subplot:\n",
        "- (1, 1): Line plot of total_bill vs tip\n",
        "- (2, 1): Bar plot of the average tip amount for each day\n",
        "- (3, 1): Heatmap of the correlation matrix\n"
      ],
      "metadata": {
        "id": "wU4xVclCPhsZ"
      }
    },
    {
      "cell_type": "code",
      "source": [
        "plt.subplot(1, 1, 1)\n",
        "plt.plot(df[\"total_bill\"].sort_values(), df[\"tip\"])\n",
        "plt.title(\"Line plot\")\n",
        "plt.xlabel(\"total_bill\")\n",
        "plt.ylabel(\"tip\")\n",
        "plt.show()\n",
        "plt.subplot(2, 1, 1)\n",
        "sns.barplot(x=\"day\", y=\"tip\",hue= \"day\", data=df)\n",
        "plt.title(\"Bar plot\")\n",
        "plt.show()\n",
        "plt.subplot(3, 1, 1)\n",
        "corr = df.corr(numeric_only = True)\n",
        "sns.heatmap(corr, annot=True)\n",
        "plt.show()"
      ],
      "metadata": {
        "id": "_6OC9UY8hjvc"
      },
      "execution_count": null,
      "outputs": []
    }
  ]
}