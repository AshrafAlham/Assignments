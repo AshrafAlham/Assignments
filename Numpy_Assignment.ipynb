{
  "nbformat": 4,
  "nbformat_minor": 0,
  "metadata": {
    "colab": {
      "provenance": []
    },
    "kernelspec": {
      "name": "python3",
      "display_name": "Python 3"
    },
    "language_info": {
      "name": "python"
    }
  },
  "cells": [
    {
      "cell_type": "markdown",
      "source": [
        "1. Write a NumPy program to test whether none of the elements of a given array is zero."
      ],
      "metadata": {
        "id": "6KogehpzlWiN"
      }
    },
    {
      "cell_type": "code",
      "source": [
        "import numpy as np\n",
        "a = np.array([[1, 3, 0], [2, 4, 5]])\n",
        "print(a.any() != 0)"
      ],
      "metadata": {
        "colab": {
          "base_uri": "https://localhost:8080/"
        },
        "id": "QG8cI_Apo-u8",
        "outputId": "ae57a44d-7c3b-415a-dc61-305794513b7f"
      },
      "execution_count": 46,
      "outputs": [
        {
          "output_type": "stream",
          "name": "stdout",
          "text": [
            "True\n"
          ]
        }
      ]
    },
    {
      "cell_type": "markdown",
      "source": [
        "2. Write a NumPy program to test whether any of the elements of a given array is non-zero."
      ],
      "metadata": {
        "id": "pXFmIth5lXJh"
      }
    },
    {
      "cell_type": "code",
      "source": [
        "a = np.array([[1, 3, 0], [2, 4, 5]])\n",
        "b = np.array([[5, 4, 1], [1, 2, 5]])\n",
        "print( (a == b).any())"
      ],
      "metadata": {
        "colab": {
          "base_uri": "https://localhost:8080/"
        },
        "id": "1Ud6IJyEGG9I",
        "outputId": "55153538-2c36-49ec-8d6a-be802621f66f"
      },
      "execution_count": 47,
      "outputs": [
        {
          "output_type": "stream",
          "name": "stdout",
          "text": [
            "True\n"
          ]
        }
      ]
    },
    {
      "cell_type": "markdown",
      "source": [
        "3. Write a NumPy program to create an element-wise comparison (equal, equal within a tolerance) of two given"
      ],
      "metadata": {
        "id": "-ebrj7Q5lYjG"
      }
    },
    {
      "cell_type": "code",
      "source": [
        "x = np.array([72, 79, 85, 90, 150, -135, 120, -10, 60, 100])\n",
        "y = np.array([72, 79, 85, 90, 150, -135, 120, -10, 60, 100.000001])\n",
        "print(np.allclose(x, y))"
      ],
      "metadata": {
        "colab": {
          "base_uri": "https://localhost:8080/"
        },
        "id": "JrhQW88olKro",
        "outputId": "937f4ef7-4732-4b9b-ef3e-d24681099aad"
      },
      "execution_count": 72,
      "outputs": [
        {
          "output_type": "stream",
          "name": "stdout",
          "text": [
            "True\n"
          ]
        }
      ]
    },
    {
      "cell_type": "markdown",
      "source": [
        "4. Write a NumPy program to create an array of 10 zeros,10 ones, 10 fives."
      ],
      "metadata": {
        "id": "1SziOcexladU"
      }
    },
    {
      "cell_type": "code",
      "source": [
        "a = np.full(10, 0)\n",
        "b = np.full(10, 1)\n",
        "c = np.full(10, 5)\n",
        "d = np.array((a, b, c))\n",
        "print(d)"
      ],
      "metadata": {
        "colab": {
          "base_uri": "https://localhost:8080/"
        },
        "id": "C1ckvzXcO8tN",
        "outputId": "968d6be5-eb69-4e51-f1e6-159b910b3267"
      },
      "execution_count": 48,
      "outputs": [
        {
          "output_type": "stream",
          "name": "stdout",
          "text": [
            "[[0 0 0 0 0 0 0 0 0 0]\n",
            " [1 1 1 1 1 1 1 1 1 1]\n",
            " [5 5 5 5 5 5 5 5 5 5]]\n"
          ]
        }
      ]
    },
    {
      "cell_type": "markdown",
      "source": [
        "5. Write a NumPy program to create an array of the integers from 30 to70."
      ],
      "metadata": {
        "id": "gRvnHOV4lcYE"
      }
    },
    {
      "cell_type": "code",
      "source": [
        "print(np.linspace(30, 70, 41))"
      ],
      "metadata": {
        "colab": {
          "base_uri": "https://localhost:8080/"
        },
        "id": "Kjsec-FYcW-J",
        "outputId": "f7a6893e-9366-455a-9597-4f230f819fa3"
      },
      "execution_count": 49,
      "outputs": [
        {
          "output_type": "stream",
          "name": "stdout",
          "text": [
            "[30. 31. 32. 33. 34. 35. 36. 37. 38. 39. 40. 41. 42. 43. 44. 45. 46. 47.\n",
            " 48. 49. 50. 51. 52. 53. 54. 55. 56. 57. 58. 59. 60. 61. 62. 63. 64. 65.\n",
            " 66. 67. 68. 69. 70.]\n"
          ]
        }
      ]
    },
    {
      "cell_type": "markdown",
      "source": [
        "6. Write a NumPy program to create a 3x3 identity matrix"
      ],
      "metadata": {
        "id": "ZTaTIbz7ldoH"
      }
    },
    {
      "cell_type": "code",
      "source": [
        "print(np.eye(3))"
      ],
      "metadata": {
        "colab": {
          "base_uri": "https://localhost:8080/"
        },
        "id": "rlon_VD8c4r0",
        "outputId": "e21f01ac-6557-475a-9f7e-91f2e79e889b"
      },
      "execution_count": 50,
      "outputs": [
        {
          "output_type": "stream",
          "name": "stdout",
          "text": [
            "[[1. 0. 0.]\n",
            " [0. 1. 0.]\n",
            " [0. 0. 1.]]\n"
          ]
        }
      ]
    },
    {
      "cell_type": "markdown",
      "source": [
        "7. Write a NumPy program to generate a random number between 0 and 1"
      ],
      "metadata": {
        "id": "FcPQaXMXlfFY"
      }
    },
    {
      "cell_type": "code",
      "source": [
        "print(np.random.rand())"
      ],
      "metadata": {
        "colab": {
          "base_uri": "https://localhost:8080/"
        },
        "id": "PuW3MPEzdAU8",
        "outputId": "256dcc33-77ab-4b8b-8017-44edcce0684f"
      },
      "execution_count": 51,
      "outputs": [
        {
          "output_type": "stream",
          "name": "stdout",
          "text": [
            "0.843948387112048\n"
          ]
        }
      ]
    },
    {
      "cell_type": "markdown",
      "source": [
        "8. Write a NumPy program to generate an array of 15 random numbers from a standard normal distribution"
      ],
      "metadata": {
        "id": "Sgy9WPP_lgRg"
      }
    },
    {
      "cell_type": "code",
      "source": [
        "print(np.random.randn(15))"
      ],
      "metadata": {
        "colab": {
          "base_uri": "https://localhost:8080/"
        },
        "id": "RxJm24-xdHZC",
        "outputId": "b31842b7-560a-44d6-af39-ec6d5a060054"
      },
      "execution_count": 52,
      "outputs": [
        {
          "output_type": "stream",
          "name": "stdout",
          "text": [
            "[-0.82202847  1.00216097  0.49430377 -1.33507107 -0.04398699  1.16336897\n",
            " -0.62795184 -0.01855006 -0.83735881 -1.55198778 -1.58809937 -0.16997917\n",
            " -1.64227445  0.82226483 -0.06802215]\n"
          ]
        }
      ]
    },
    {
      "cell_type": "markdown",
      "source": [
        "9. Write a NumPy program to create a vector with values ranging from 15 to 55 and print all values except the first and last."
      ],
      "metadata": {
        "id": "acDAE4a5lh4a"
      }
    },
    {
      "cell_type": "code",
      "source": [
        "print(np.linspace(16, 54, 39))"
      ],
      "metadata": {
        "colab": {
          "base_uri": "https://localhost:8080/"
        },
        "id": "vQGR7cDwdPGm",
        "outputId": "2628c864-c641-4865-82c0-fe608b65c0ef"
      },
      "execution_count": 53,
      "outputs": [
        {
          "output_type": "stream",
          "name": "stdout",
          "text": [
            "[16. 17. 18. 19. 20. 21. 22. 23. 24. 25. 26. 27. 28. 29. 30. 31. 32. 33.\n",
            " 34. 35. 36. 37. 38. 39. 40. 41. 42. 43. 44. 45. 46. 47. 48. 49. 50. 51.\n",
            " 52. 53. 54.]\n"
          ]
        }
      ]
    },
    {
      "cell_type": "markdown",
      "source": [
        "10. Write a NumPy program to create a vector of length 5 filled with arbitrary integers from 0 to 10"
      ],
      "metadata": {
        "id": "50l-vhX8mFC6"
      }
    },
    {
      "cell_type": "code",
      "source": [
        "print(np.random.randint(0, 11, 5))"
      ],
      "metadata": {
        "colab": {
          "base_uri": "https://localhost:8080/"
        },
        "id": "5a1h1bL5d39x",
        "outputId": "c7980ab1-ac12-4bce-a29d-f2c30105e135"
      },
      "execution_count": 54,
      "outputs": [
        {
          "output_type": "stream",
          "name": "stdout",
          "text": [
            "[3 2 1 1 7]\n"
          ]
        }
      ]
    },
    {
      "cell_type": "markdown",
      "source": [
        "11. Write a NumPy program to create a 10x10 matrix, in which the elements on the borders will be equal to 1, and inside 0."
      ],
      "metadata": {
        "id": "PfZfunoqmG5O"
      }
    },
    {
      "cell_type": "code",
      "source": [
        "a = np.ones((10, 10))\n",
        "a[1:-1, 1:-1] = 0\n",
        "print(a)"
      ],
      "metadata": {
        "colab": {
          "base_uri": "https://localhost:8080/"
        },
        "id": "zKTe-OrxeCnr",
        "outputId": "40f350f9-790f-4dd1-e4fc-b8087c6aee4b"
      },
      "execution_count": 55,
      "outputs": [
        {
          "output_type": "stream",
          "name": "stdout",
          "text": [
            "[[1. 1. 1. 1. 1. 1. 1. 1. 1. 1.]\n",
            " [1. 0. 0. 0. 0. 0. 0. 0. 0. 1.]\n",
            " [1. 0. 0. 0. 0. 0. 0. 0. 0. 1.]\n",
            " [1. 0. 0. 0. 0. 0. 0. 0. 0. 1.]\n",
            " [1. 0. 0. 0. 0. 0. 0. 0. 0. 1.]\n",
            " [1. 0. 0. 0. 0. 0. 0. 0. 0. 1.]\n",
            " [1. 0. 0. 0. 0. 0. 0. 0. 0. 1.]\n",
            " [1. 0. 0. 0. 0. 0. 0. 0. 0. 1.]\n",
            " [1. 0. 0. 0. 0. 0. 0. 0. 0. 1.]\n",
            " [1. 1. 1. 1. 1. 1. 1. 1. 1. 1.]]\n"
          ]
        }
      ]
    },
    {
      "cell_type": "markdown",
      "source": [
        "12. Write a NumPy program to create a 5x5 zero matrix with elements on the main diagonal equal to 1, 2, 3, 4, 5."
      ],
      "metadata": {
        "id": "eOAF5FDJmJ6O"
      }
    },
    {
      "cell_type": "code",
      "source": [
        "print(np.diag([1, 2, 3, 4, 5]))"
      ],
      "metadata": {
        "colab": {
          "base_uri": "https://localhost:8080/"
        },
        "id": "E16jWR4Ke5Wp",
        "outputId": "db73c904-3ffd-4806-8a0a-19e3a9879537"
      },
      "execution_count": 58,
      "outputs": [
        {
          "output_type": "stream",
          "name": "stdout",
          "text": [
            "[[1 0 0 0 0]\n",
            " [0 2 0 0 0]\n",
            " [0 0 3 0 0]\n",
            " [0 0 0 4 0]\n",
            " [0 0 0 0 5]]\n"
          ]
        }
      ]
    },
    {
      "cell_type": "markdown",
      "source": [
        "13. Write a NumPy program to create a 4x4 matrix in which 0 and 1 are staggered, with zeros on the main diagonal"
      ],
      "metadata": {
        "id": "jYJzkWE6mO0S"
      }
    },
    {
      "cell_type": "code",
      "source": [
        "a = np.zeros((4, 4))\n",
        "a[::2, 1::2] = 1\n",
        "a[1::2, ::2] = 1\n",
        "print(a)"
      ],
      "metadata": {
        "colab": {
          "base_uri": "https://localhost:8080/"
        },
        "id": "GcV_55esgTd8",
        "outputId": "14b8b8e0-23d6-4aa8-bd8a-dffcc963ddfa"
      },
      "execution_count": 62,
      "outputs": [
        {
          "output_type": "stream",
          "name": "stdout",
          "text": [
            "[[0. 1. 0. 1.]\n",
            " [1. 0. 1. 0.]\n",
            " [0. 1. 0. 1.]\n",
            " [1. 0. 1. 0.]]\n"
          ]
        }
      ]
    },
    {
      "cell_type": "markdown",
      "source": [
        "14. Write a NumPy program to save two given arrays into a single file in compressed format (.npz format) and load it."
      ],
      "metadata": {
        "id": "HGxrDmZ1mSmW"
      }
    },
    {
      "cell_type": "code",
      "source": [
        "\n",
        "x = np.arange(10)\n",
        "y = np.arange(11, 20)\n",
        "\n",
        "np.savez('temp_arra.npz', x=x, y=y)\n",
        "\n",
        "with np.load('temp_arra.npz') as data:\n",
        "    x2 = data['x']\n",
        "    y2 = data['y']\n",
        "    print(x2)\n",
        "    print(y2)"
      ],
      "metadata": {
        "colab": {
          "base_uri": "https://localhost:8080/"
        },
        "id": "BPcFLhv_hBIv",
        "outputId": "38b618a8-01fd-4029-9f90-6cc8a27bb8c2"
      },
      "execution_count": 65,
      "outputs": [
        {
          "output_type": "stream",
          "name": "stdout",
          "text": [
            "[0 1 2 3 4 5 6 7 8 9]\n",
            "[11 12 13 14 15 16 17 18 19]\n"
          ]
        }
      ]
    },
    {
      "cell_type": "markdown",
      "source": [
        "15. Write a NumPy program to create a one-dimensional array of forty pseudo-randomly generated values. Select"
      ],
      "metadata": {
        "id": "rvsRpzSLmUZK"
      }
    },
    {
      "cell_type": "code",
      "source": [
        "print(np.random.rand(40))"
      ],
      "metadata": {
        "colab": {
          "base_uri": "https://localhost:8080/"
        },
        "id": "Ew5b7m7JjcjO",
        "outputId": "3e6fe07c-ae51-417d-b7e5-db3e48f2a55b"
      },
      "execution_count": 69,
      "outputs": [
        {
          "output_type": "stream",
          "name": "stdout",
          "text": [
            "[0.54758616 0.819287   0.19894754 0.8568503  0.35165264 0.75464769\n",
            " 0.29596171 0.88393648 0.32551164 0.1650159  0.39252924 0.09346037\n",
            " 0.82110566 0.15115202 0.38411445 0.94426071 0.98762547 0.45630455\n",
            " 0.82612284 0.25137413 0.59737165 0.90283176 0.53455795 0.59020136\n",
            " 0.03928177 0.35718176 0.07961309 0.30545992 0.33071931 0.7738303\n",
            " 0.03995921 0.42949218 0.31492687 0.63649114 0.34634715 0.04309736\n",
            " 0.87991517 0.76324059 0.87809664 0.41750914]\n"
          ]
        }
      ]
    },
    {
      "cell_type": "markdown",
      "source": [
        "16. Write a NumPy program to extract all numbers from a given array which are less and greater than a specified number."
      ],
      "metadata": {
        "id": "M3e5E1XpmZOy"
      }
    },
    {
      "cell_type": "code",
      "source": [
        "a= np.array([2, 6, 48, 21, 51, 26, 35, 24, 15, 29, 13, 8, 19])\n",
        "print(a[a>15])"
      ],
      "metadata": {
        "colab": {
          "base_uri": "https://localhost:8080/"
        },
        "id": "rwsm07rykDay",
        "outputId": "bde1531b-e156-472b-88fa-15241fea48fd"
      },
      "execution_count": 71,
      "outputs": [
        {
          "output_type": "stream",
          "name": "stdout",
          "text": [
            "[48 21 51 26 35 24 29 19]\n"
          ]
        }
      ]
    }
  ]
}