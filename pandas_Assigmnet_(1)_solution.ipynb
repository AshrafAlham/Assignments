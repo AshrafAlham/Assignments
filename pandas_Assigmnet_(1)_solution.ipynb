{
  "nbformat": 4,
  "nbformat_minor": 0,
  "metadata": {
    "colab": {
      "private_outputs": true,
      "provenance": []
    },
    "kernelspec": {
      "name": "python3",
      "display_name": "Python 3"
    },
    "language_info": {
      "name": "python"
    }
  },
  "cells": [
    {
      "cell_type": "markdown",
      "source": [
        "# Load the dataset\n",
        "- Load the Tips dataset using pandas.\n"
      ],
      "metadata": {
        "id": "0bQsWvaQPZ7a"
      }
    },
    {
      "cell_type": "code",
      "source": [
        "import pandas as pd\n",
        "df = pd.read_csv(\"/content/tips.csv\")\n",
        "df"
      ],
      "metadata": {
        "id": "PTb-JkfB6QiS"
      },
      "execution_count": null,
      "outputs": []
    },
    {
      "cell_type": "code",
      "source": [],
      "metadata": {
        "id": "FxJIICIXat5o"
      },
      "execution_count": null,
      "outputs": []
    },
    {
      "cell_type": "markdown",
      "source": [
        "# Basic data exploration\n",
        "- Display the first 5 rows of the dataset.\n",
        "- Display the summary statistics of the dataset.\n",
        "- Check for missing values in the dataset."
      ],
      "metadata": {
        "id": "gK8RCzLuPoK0"
      }
    },
    {
      "cell_type": "code",
      "source": [
        "df.head(5)"
      ],
      "metadata": {
        "id": "L1RQ3zij7HQ7"
      },
      "execution_count": null,
      "outputs": []
    },
    {
      "cell_type": "code",
      "source": [
        "df.describe()"
      ],
      "metadata": {
        "id": "gi1jfFnY7Pzr"
      },
      "execution_count": null,
      "outputs": []
    },
    {
      "cell_type": "code",
      "source": [
        "df.isnull()"
      ],
      "metadata": {
        "id": "PUJJ1EH47Ve0"
      },
      "execution_count": null,
      "outputs": []
    },
    {
      "cell_type": "markdown",
      "source": [
        "# Data selection\n",
        "- Select the columns 'total_bill', 'tip', and 'sex'.\n",
        "- Select the rows where the 'total_bill' is greater than $20.\n",
        "- Select the rows where the day is 'Sun' and the 'time' is 'Dinner'.\n"
      ],
      "metadata": {
        "id": "dYidq4wwP28W"
      }
    },
    {
      "cell_type": "code",
      "source": [
        "# Select the columns 'total_bill', 'tip', and 'sex'.\n",
        "df.loc[:, 'total_bill':'sex']"
      ],
      "metadata": {
        "id": "o6Ipq__j71UA"
      },
      "execution_count": null,
      "outputs": []
    },
    {
      "cell_type": "code",
      "source": [
        "# Select the rows where the 'total_bill' is greater than $20.\n",
        "df[df[\"total_bill\"] > 20]"
      ],
      "metadata": {
        "id": "j1Y5qwJc8ePU"
      },
      "execution_count": null,
      "outputs": []
    },
    {
      "cell_type": "code",
      "source": [
        "df[(df[\"day\"] == \"Sun\") &  (df[\"time\"] == \"Dinner\")]"
      ],
      "metadata": {
        "id": "gBbuWipqBj-E"
      },
      "execution_count": null,
      "outputs": []
    },
    {
      "cell_type": "code",
      "source": [],
      "metadata": {
        "id": "Z4sL15tqrooc"
      },
      "execution_count": null,
      "outputs": []
    },
    {
      "cell_type": "markdown",
      "source": [
        "# Grouping and aggregation:\n",
        "\n",
        "- Calculate the average total bill for each day.\n",
        "- Calculate the sum of tips for each day.\n",
        "- Find the maximum total bill for each combination of day and time."
      ],
      "metadata": {
        "id": "tWlLGjNDQHGL"
      }
    },
    {
      "cell_type": "code",
      "source": [
        "#Calculate the average total bill for each day.\n",
        "gk = df.groupby(\"day\")\n",
        "gk[\"total_bill\"].mean()"
      ],
      "metadata": {
        "id": "IeWS16soDba4"
      },
      "execution_count": null,
      "outputs": []
    },
    {
      "cell_type": "code",
      "source": [],
      "metadata": {
        "id": "DKVOTk97zTIp"
      },
      "execution_count": null,
      "outputs": []
    },
    {
      "cell_type": "code",
      "source": [
        "# Calculate the sum of tips for each day\n",
        "gk[\"tip\"].sum()"
      ],
      "metadata": {
        "id": "zwTj4PD3zCaw"
      },
      "execution_count": null,
      "outputs": []
    },
    {
      "cell_type": "code",
      "source": [
        "# Find the maximum total bill for each combination of day and time.\n",
        "ggk = df.groupby([\"day\", \"time\"])\n",
        "ggk[\"total_bill\"].max()"
      ],
      "metadata": {
        "id": "641A4lZmzWO9"
      },
      "execution_count": null,
      "outputs": []
    },
    {
      "cell_type": "markdown",
      "source": [
        "# Data transformation:\n",
        "\n",
        "- Add a new column 'tip_percentage' which is the tip divided by the total bill multiplied by 100.\n",
        "- Create a new column 'bill_per_person' which is the total bill divided by the number of people ('size')."
      ],
      "metadata": {
        "id": "eZ0C5HBMQVKR"
      }
    },
    {
      "cell_type": "code",
      "source": [
        "# Add a new column 'tip_percentage' which is the tip divided by the total bill multiplied by 100.\n",
        "df[\"tip_percentage\"] = (df[\"tip\"] / df[\"total_bill\"]) * 100\n",
        "# Create a new column 'bill_per_person' which is the total bill divided by the number of people ('size').\n",
        "new_col = df.total_bill / df.size\n",
        "df.insert(8, \"bill_per_person\", new_col)\n",
        "df"
      ],
      "metadata": {
        "id": "DneceqJir_kn"
      },
      "execution_count": null,
      "outputs": []
    },
    {
      "cell_type": "markdown",
      "source": [
        "# Filtering:\n",
        "\n",
        "- Filter the rows where 'tip_percentage' is greater than 15%.\n",
        "- Filter the rows where 'total_bill' is in the top 10 highest bills."
      ],
      "metadata": {
        "id": "7KfLEXUiQjLK"
      }
    },
    {
      "cell_type": "code",
      "source": [
        "# Filter the rows where 'tip_percentage' is greater than 15%.\n",
        "filtered = df[df.tip_percentage > 15]\n",
        "total_bill_sorted = df.sort_values(by=\"total_bill\", ascending = False).iloc[:10, :]\n",
        "total_bill_sorted"
      ],
      "metadata": {
        "id": "QdqiRZ3WtqRC"
      },
      "execution_count": null,
      "outputs": []
    },
    {
      "cell_type": "markdown",
      "source": [
        "# Sorting:\n",
        "\n",
        "- Sort the dataset by 'total_bill' in descending order."
      ],
      "metadata": {
        "id": "CNCIQquLQ0xe"
      }
    },
    {
      "cell_type": "code",
      "source": [
        "total_bill_sorted_df = df.sort_values(by = \"total_bill\", ascending = False)\n",
        "total_bill_sorted_df"
      ],
      "metadata": {
        "id": "HdlAaCOCvF2L"
      },
      "execution_count": null,
      "outputs": []
    },
    {
      "cell_type": "code",
      "source": [],
      "metadata": {
        "id": "dpZqGF9Tvbg_"
      },
      "execution_count": null,
      "outputs": []
    },
    {
      "cell_type": "code",
      "source": [],
      "metadata": {
        "id": "881i-CxUvNss"
      },
      "execution_count": null,
      "outputs": []
    },
    {
      "cell_type": "markdown",
      "source": [
        "# Handling missing data:\n",
        "\n",
        "- Replace any missing values in the 'tip' column with the mean of the 'tip' column.\n",
        "- Drop any rows where the 'size' is missing."
      ],
      "metadata": {
        "id": "-LZj6q2ZRKuv"
      }
    },
    {
      "cell_type": "code",
      "source": [
        "#Replace any missing values in the 'tip' column with the mean of the 'tip' column.\n",
        "mean = df[\"tip\"].mean()\n",
        "df[\"tip\"] = df[\"tip\"].fillna(value = mean)\n",
        "# Drop any rows where the 'size' is missing\n",
        "df.dropna(subset = [\"size\"])\n",
        "df"
      ],
      "metadata": {
        "id": "gl9jdjpvvdYv"
      },
      "execution_count": null,
      "outputs": []
    }
  ]
}